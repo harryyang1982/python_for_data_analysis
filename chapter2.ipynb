{
    "cells": [
        {
            "cell_type": "code",
            "execution_count": 1,
            "source": [
                "a = 5"
            ],
            "outputs": [],
            "metadata": {}
        },
        {
            "cell_type": "code",
            "execution_count": 2,
            "source": [
                "a"
            ],
            "outputs": [
                {
                    "output_type": "execute_result",
                    "data": {
                        "text/plain": [
                            "5"
                        ]
                    },
                    "metadata": {},
                    "execution_count": 2
                }
            ],
            "metadata": {}
        },
        {
            "cell_type": "code",
            "execution_count": 3,
            "source": [
                "import numpy as np"
            ],
            "outputs": [],
            "metadata": {}
        },
        {
            "cell_type": "code",
            "execution_count": 4,
            "source": [
                "data = {i : np.random.randn() for i in range(7)}"
            ],
            "outputs": [],
            "metadata": {}
        },
        {
            "cell_type": "code",
            "execution_count": 5,
            "source": [
                "data"
            ],
            "outputs": [
                {
                    "output_type": "execute_result",
                    "data": {
                        "text/plain": [
                            "{0: -0.5347571707070573,\n",
                            " 1: 2.041205391621054,\n",
                            " 2: -0.7103133433991599,\n",
                            " 3: -0.0904724426678973,\n",
                            " 4: -0.48344473659241227,\n",
                            " 5: 0.26245026448424885,\n",
                            " 6: -0.6989698694517861}"
                        ]
                    },
                    "metadata": {},
                    "execution_count": 5
                }
            ],
            "metadata": {}
        },
        {
            "cell_type": "code",
            "execution_count": 6,
            "source": [
                "from numpy.random import randn"
            ],
            "outputs": [],
            "metadata": {}
        },
        {
            "cell_type": "code",
            "execution_count": 7,
            "source": [
                "data = {i : randn() for i in range(7)}\n",
                "print(data)"
            ],
            "outputs": [
                {
                    "output_type": "stream",
                    "name": "stdout",
                    "text": [
                        "{0: -0.5039757413952686, 1: 0.21667598778924405, 2: -0.36765532240645, 3: -0.3916312819537493, 4: 1.3496288213958951, 5: -0.2612530814930729, 6: 0.0010549856897459982}\n"
                    ]
                }
            ],
            "metadata": {}
        },
        {
            "cell_type": "markdown",
            "source": [
                "### Tap Completion"
            ],
            "metadata": {}
        },
        {
            "cell_type": "code",
            "execution_count": 8,
            "source": [
                "an_apple = 27\n",
                "an_example = 42"
            ],
            "outputs": [],
            "metadata": {}
        },
        {
            "cell_type": "code",
            "execution_count": 9,
            "source": [
                "b = [1, 2, 3]"
            ],
            "outputs": [],
            "metadata": {}
        },
        {
            "cell_type": "code",
            "execution_count": 10,
            "source": [
                "b"
            ],
            "outputs": [
                {
                    "output_type": "execute_result",
                    "data": {
                        "text/plain": [
                            "[1, 2, 3]"
                        ]
                    },
                    "metadata": {},
                    "execution_count": 10
                }
            ],
            "metadata": {}
        },
        {
            "cell_type": "code",
            "execution_count": 11,
            "source": [
                "import datetime"
            ],
            "outputs": [],
            "metadata": {}
        },
        {
            "cell_type": "code",
            "execution_count": 12,
            "source": [
                "b = [1, 2, 3]"
            ],
            "outputs": [],
            "metadata": {}
        },
        {
            "cell_type": "code",
            "execution_count": 13,
            "source": [
                "b?"
            ],
            "outputs": [
                {
                    "output_type": "stream",
                    "name": "stdout",
                    "text": [
                        "\u001b[0;31mType:\u001b[0m        list\n",
                        "\u001b[0;31mString form:\u001b[0m [1, 2, 3]\n",
                        "\u001b[0;31mLength:\u001b[0m      3\n",
                        "\u001b[0;31mDocstring:\u001b[0m  \n",
                        "Built-in mutable sequence.\n",
                        "\n",
                        "If no argument is given, the constructor creates a new empty list.\n",
                        "The argument must be an iterable if specified.\n"
                    ]
                }
            ],
            "metadata": {}
        },
        {
            "cell_type": "code",
            "execution_count": 14,
            "source": [
                "print?"
            ],
            "outputs": [
                {
                    "output_type": "stream",
                    "name": "stdout",
                    "text": [
                        "\u001b[0;31mDocstring:\u001b[0m\n",
                        "print(value, ..., sep=' ', end='\\n', file=sys.stdout, flush=False)\n",
                        "\n",
                        "Prints the values to a stream, or to sys.stdout by default.\n",
                        "Optional keyword arguments:\n",
                        "file:  a file-like object (stream); defaults to the current sys.stdout.\n",
                        "sep:   string inserted between values, default a space.\n",
                        "end:   string appended after the last value, default a newline.\n",
                        "flush: whether to forcibly flush the stream.\n",
                        "\u001b[0;31mType:\u001b[0m      builtin_function_or_method\n"
                    ]
                }
            ],
            "metadata": {}
        },
        {
            "cell_type": "code",
            "execution_count": 15,
            "source": [
                "def add_numbers(a, b):\n",
                "    \"\"\"\n",
                "    Add two numbers together\n",
                "    \n",
                "    Returns\n",
                "    -------\n",
                "    the_sum : type of arguments\n",
                "    \"\"\"\n",
                "    return a + b"
            ],
            "outputs": [],
            "metadata": {}
        },
        {
            "cell_type": "code",
            "execution_count": 16,
            "source": [
                "add_numbers?"
            ],
            "outputs": [
                {
                    "output_type": "stream",
                    "name": "stdout",
                    "text": [
                        "\u001b[0;31mSignature:\u001b[0m \u001b[0madd_numbers\u001b[0m\u001b[0;34m(\u001b[0m\u001b[0ma\u001b[0m\u001b[0;34m,\u001b[0m \u001b[0mb\u001b[0m\u001b[0;34m)\u001b[0m\u001b[0;34m\u001b[0m\u001b[0;34m\u001b[0m\u001b[0m\n",
                        "\u001b[0;31mDocstring:\u001b[0m\n",
                        "Add two numbers together\n",
                        "\n",
                        "Returns\n",
                        "-------\n",
                        "the_sum : type of arguments\n",
                        "\u001b[0;31mFile:\u001b[0m      ~/Documents/python/python_for_data_analysis/<ipython-input-15-18f6192d3150>\n",
                        "\u001b[0;31mType:\u001b[0m      function\n"
                    ]
                }
            ],
            "metadata": {}
        },
        {
            "cell_type": "code",
            "execution_count": 17,
            "source": [
                "add_numbers??"
            ],
            "outputs": [
                {
                    "output_type": "stream",
                    "name": "stdout",
                    "text": [
                        "\u001b[0;31mSignature:\u001b[0m \u001b[0madd_numbers\u001b[0m\u001b[0;34m(\u001b[0m\u001b[0ma\u001b[0m\u001b[0;34m,\u001b[0m \u001b[0mb\u001b[0m\u001b[0;34m)\u001b[0m\u001b[0;34m\u001b[0m\u001b[0;34m\u001b[0m\u001b[0m\n",
                        "\u001b[0;31mSource:\u001b[0m   \n",
                        "\u001b[0;32mdef\u001b[0m \u001b[0madd_numbers\u001b[0m\u001b[0;34m(\u001b[0m\u001b[0ma\u001b[0m\u001b[0;34m,\u001b[0m \u001b[0mb\u001b[0m\u001b[0;34m)\u001b[0m\u001b[0;34m:\u001b[0m\u001b[0;34m\u001b[0m\n",
                        "\u001b[0;34m\u001b[0m    \u001b[0;34m\"\"\"\u001b[0m\n",
                        "\u001b[0;34m    Add two numbers together\u001b[0m\n",
                        "\u001b[0;34m    \u001b[0m\n",
                        "\u001b[0;34m    Returns\u001b[0m\n",
                        "\u001b[0;34m    -------\u001b[0m\n",
                        "\u001b[0;34m    the_sum : type of arguments\u001b[0m\n",
                        "\u001b[0;34m    \"\"\"\u001b[0m\u001b[0;34m\u001b[0m\n",
                        "\u001b[0;34m\u001b[0m    \u001b[0;32mreturn\u001b[0m \u001b[0ma\u001b[0m \u001b[0;34m+\u001b[0m \u001b[0mb\u001b[0m\u001b[0;34m\u001b[0m\u001b[0;34m\u001b[0m\u001b[0m\n",
                        "\u001b[0;31mFile:\u001b[0m      ~/Documents/python/python_for_data_analysis/<ipython-input-15-18f6192d3150>\n",
                        "\u001b[0;31mType:\u001b[0m      function\n"
                    ]
                }
            ],
            "metadata": {}
        },
        {
            "cell_type": "code",
            "execution_count": 18,
            "source": [
                "np.*load*?"
            ],
            "outputs": [
                {
                    "output_type": "stream",
                    "name": "stdout",
                    "text": [
                        "np.__loader__\n",
                        "np.load\n",
                        "np.loads\n",
                        "np.loadtxt"
                    ]
                }
            ],
            "metadata": {}
        },
        {
            "cell_type": "markdown",
            "source": [
                "### The %run Command"
            ],
            "metadata": {}
        },
        {
            "cell_type": "code",
            "execution_count": 19,
            "source": [
                "%run ipython_script_test.py"
            ],
            "outputs": [],
            "metadata": {}
        },
        {
            "cell_type": "code",
            "execution_count": 20,
            "source": [
                "c"
            ],
            "outputs": [
                {
                    "output_type": "execute_result",
                    "data": {
                        "text/plain": [
                            "7.5"
                        ]
                    },
                    "metadata": {},
                    "execution_count": 20
                }
            ],
            "metadata": {}
        },
        {
            "cell_type": "code",
            "execution_count": 21,
            "source": [
                "result"
            ],
            "outputs": [
                {
                    "output_type": "execute_result",
                    "data": {
                        "text/plain": [
                            "1.4666666666666666"
                        ]
                    },
                    "metadata": {},
                    "execution_count": 21
                }
            ],
            "metadata": {}
        },
        {
            "cell_type": "code",
            "execution_count": 22,
            "source": [
                "# %load ipython_script_test.py\n",
                "def f(x, y, z):\n",
                "    return (x + y) / z\n",
                "\n",
                "a, b, c = 5, 6, 7.5\n",
                "result = f(a, b, c)"
            ],
            "outputs": [],
            "metadata": {}
        },
        {
            "cell_type": "code",
            "execution_count": 23,
            "source": [
                "%paste"
            ],
            "outputs": [
                {
                    "output_type": "stream",
                    "name": "stderr",
                    "text": [
                        "UsageError: Line magic function `%paste` not found.\n"
                    ]
                }
            ],
            "metadata": {}
        },
        {
            "cell_type": "code",
            "execution_count": 24,
            "source": [
                "%cpaste"
            ],
            "outputs": [
                {
                    "output_type": "stream",
                    "name": "stderr",
                    "text": [
                        "UsageError: Line magic function `%cpaste` not found.\n"
                    ]
                }
            ],
            "metadata": {}
        },
        {
            "cell_type": "code",
            "execution_count": 25,
            "source": [
                "x = 5\n",
                "y = 7\n",
                "if x > 5:\n",
                "    x += 1\n",
                "    y = 8"
            ],
            "outputs": [],
            "metadata": {}
        },
        {
            "cell_type": "code",
            "execution_count": 26,
            "source": [
                "%paste"
            ],
            "outputs": [
                {
                    "output_type": "stream",
                    "name": "stderr",
                    "text": [
                        "UsageError: Line magic function `%paste` not found.\n"
                    ]
                }
            ],
            "metadata": {}
        },
        {
            "cell_type": "code",
            "execution_count": 27,
            "source": [
                "a = np.random.randn(100, 100)"
            ],
            "outputs": [],
            "metadata": {}
        },
        {
            "cell_type": "code",
            "execution_count": 28,
            "source": [
                "%timeit np.dot(a, a)"
            ],
            "outputs": [
                {
                    "output_type": "stream",
                    "name": "stdout",
                    "text": [
                        "27.8 µs ± 177 ns per loop (mean ± std. dev. of 7 runs, 10000 loops each)\n"
                    ]
                }
            ],
            "metadata": {}
        },
        {
            "cell_type": "code",
            "execution_count": 29,
            "source": [
                "%debug?"
            ],
            "outputs": [
                {
                    "output_type": "stream",
                    "name": "stdout",
                    "text": [
                        "\u001b[0;31mDocstring:\u001b[0m\n",
                        "::\n",
                        "\n",
                        "  %debug [--breakpoint FILE:LINE] [statement [statement ...]]\n",
                        "\n",
                        "Activate the interactive debugger.\n",
                        "\n",
                        "This magic command support two ways of activating debugger.\n",
                        "One is to activate debugger before executing code.  This way, you\n",
                        "can set a break point, to step through the code from the point.\n",
                        "You can use this mode by giving statements to execute and optionally\n",
                        "a breakpoint.\n",
                        "\n",
                        "The other one is to activate debugger in post-mortem mode.  You can\n",
                        "activate this mode simply running %debug without any argument.\n",
                        "If an exception has just occurred, this lets you inspect its stack\n",
                        "frames interactively.  Note that this will always work only on the last\n",
                        "traceback that occurred, so you must call this quickly after an\n",
                        "exception that you wish to inspect has fired, because if another one\n",
                        "occurs, it clobbers the previous one.\n",
                        "\n",
                        "If you want IPython to automatically do this on every exception, see\n",
                        "the %pdb magic for more details.\n",
                        "\n",
                        ".. versionchanged:: 7.3\n",
                        "    When running code, user variables are no longer expanded,\n",
                        "    the magic line is always left unmodified.\n",
                        "\n",
                        "positional arguments:\n",
                        "  statement             Code to run in debugger. You can omit this in cell\n",
                        "                        magic mode.\n",
                        "\n",
                        "optional arguments:\n",
                        "  --breakpoint <FILE:LINE>, -b <FILE:LINE>\n",
                        "                        Set break point at LINE in FILE.\n",
                        "\u001b[0;31mFile:\u001b[0m      ~/Library/Python/3.8/lib/python/site-packages/IPython/core/magics/execution.py\n"
                    ]
                }
            ],
            "metadata": {}
        },
        {
            "cell_type": "code",
            "execution_count": 30,
            "source": [
                "%pwd"
            ],
            "outputs": [
                {
                    "output_type": "execute_result",
                    "data": {
                        "text/plain": [
                            "'/Users/seunghoonyang/Documents/python/python_for_data_analysis'"
                        ]
                    },
                    "metadata": {},
                    "execution_count": 30
                }
            ],
            "metadata": {}
        },
        {
            "cell_type": "code",
            "execution_count": 31,
            "source": [
                "foo = %pwd"
            ],
            "outputs": [],
            "metadata": {}
        },
        {
            "cell_type": "code",
            "execution_count": 32,
            "source": [
                "foo"
            ],
            "outputs": [
                {
                    "output_type": "execute_result",
                    "data": {
                        "text/plain": [
                            "'/Users/seunghoonyang/Documents/python/python_for_data_analysis'"
                        ]
                    },
                    "metadata": {},
                    "execution_count": 32
                }
            ],
            "metadata": {}
        },
        {
            "cell_type": "code",
            "execution_count": null,
            "source": [],
            "outputs": [],
            "metadata": {}
        }
    ],
    "metadata": {
        "orig_nbformat": 4,
        "language_info": {
            "name": "python",
            "version": "3.8.3",
            "mimetype": "text/x-python",
            "codemirror_mode": {
                "name": "ipython",
                "version": 3
            },
            "pygments_lexer": "ipython3",
            "nbconvert_exporter": "python",
            "file_extension": ".py"
        },
        "kernelspec": {
            "name": "python3",
            "display_name": "Python 3.8.3 64-bit"
        },
        "interpreter": {
            "hash": "aee8b7b246df8f9039afb4144a1f6fd8d2ca17a180786b69acc140d282b71a49"
        }
    },
    "nbformat": 4,
    "nbformat_minor": 2
}