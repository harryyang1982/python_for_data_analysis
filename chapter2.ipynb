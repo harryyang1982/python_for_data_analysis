{
    "cells": [
        {
            "cell_type": "code",
            "execution_count": 1,
            "source": [
                "a = 5"
            ],
            "outputs": [],
            "metadata": {}
        },
        {
            "cell_type": "code",
            "execution_count": 2,
            "source": [
                "a"
            ],
            "outputs": [
                {
                    "output_type": "execute_result",
                    "data": {
                        "text/plain": [
                            "5"
                        ]
                    },
                    "metadata": {},
                    "execution_count": 2
                }
            ],
            "metadata": {}
        },
        {
            "cell_type": "code",
            "execution_count": 3,
            "source": [
                "import numpy as np"
            ],
            "outputs": [],
            "metadata": {}
        },
        {
            "cell_type": "code",
            "execution_count": 4,
            "source": [
                "data = {i : np.random.randn() for i in range(7)}"
            ],
            "outputs": [],
            "metadata": {}
        },
        {
            "cell_type": "code",
            "execution_count": 5,
            "source": [
                "data"
            ],
            "outputs": [
                {
                    "output_type": "execute_result",
                    "data": {
                        "text/plain": [
                            "{0: 0.6796281169940693,\n",
                            " 1: 0.21968486281537702,\n",
                            " 2: 0.148826381881451,\n",
                            " 3: -0.03205982790312078,\n",
                            " 4: -0.5727571582197553,\n",
                            " 5: -0.0009591611435705488,\n",
                            " 6: -0.7334123508320955}"
                        ]
                    },
                    "metadata": {},
                    "execution_count": 5
                }
            ],
            "metadata": {}
        },
        {
            "cell_type": "code",
            "execution_count": 6,
            "source": [
                "from numpy.random import randn"
            ],
            "outputs": [],
            "metadata": {}
        },
        {
            "cell_type": "code",
            "execution_count": 8,
            "source": [
                "data = {i : randn() for i in range(7)}\n",
                "print(data)"
            ],
            "outputs": [
                {
                    "output_type": "stream",
                    "name": "stdout",
                    "text": [
                        "{0: -0.684160285302777, 1: 0.22669798891709914, 2: 0.7983270858713325, 3: 0.5398413438432651, 4: -0.8333454131471819, 5: 0.42486662712321516, 6: -0.3730726791063008}\n"
                    ]
                }
            ],
            "metadata": {}
        },
        {
            "cell_type": "markdown",
            "source": [
                "### Tap Completion"
            ],
            "metadata": {}
        },
        {
            "cell_type": "code",
            "execution_count": 9,
            "source": [
                "an_apple = 27\n",
                "an_example = 42"
            ],
            "outputs": [],
            "metadata": {}
        },
        {
            "cell_type": "code",
            "execution_count": 11,
            "source": [
                "b = [1, 2, 3]"
            ],
            "outputs": [],
            "metadata": {}
        },
        {
            "cell_type": "code",
            "execution_count": 12,
            "source": [
                "b"
            ],
            "outputs": [
                {
                    "output_type": "execute_result",
                    "data": {
                        "text/plain": [
                            "[1, 2, 3]"
                        ]
                    },
                    "metadata": {},
                    "execution_count": 12
                }
            ],
            "metadata": {}
        },
        {
            "cell_type": "code",
            "execution_count": 13,
            "source": [
                "import datetime"
            ],
            "outputs": [],
            "metadata": {}
        },
        {
            "cell_type": "code",
            "execution_count": 14,
            "source": [
                "b = [1, 2, 3]"
            ],
            "outputs": [],
            "metadata": {}
        },
        {
            "cell_type": "code",
            "execution_count": 15,
            "source": [
                "b?"
            ],
            "outputs": [
                {
                    "output_type": "stream",
                    "name": "stdout",
                    "text": [
                        "\u001b[0;31mType:\u001b[0m        list\n",
                        "\u001b[0;31mString form:\u001b[0m [1, 2, 3]\n",
                        "\u001b[0;31mLength:\u001b[0m      3\n",
                        "\u001b[0;31mDocstring:\u001b[0m  \n",
                        "Built-in mutable sequence.\n",
                        "\n",
                        "If no argument is given, the constructor creates a new empty list.\n",
                        "The argument must be an iterable if specified.\n"
                    ]
                }
            ],
            "metadata": {}
        },
        {
            "cell_type": "code",
            "execution_count": 16,
            "source": [
                "print?"
            ],
            "outputs": [
                {
                    "output_type": "stream",
                    "name": "stdout",
                    "text": [
                        "\u001b[0;31mDocstring:\u001b[0m\n",
                        "print(value, ..., sep=' ', end='\\n', file=sys.stdout, flush=False)\n",
                        "\n",
                        "Prints the values to a stream, or to sys.stdout by default.\n",
                        "Optional keyword arguments:\n",
                        "file:  a file-like object (stream); defaults to the current sys.stdout.\n",
                        "sep:   string inserted between values, default a space.\n",
                        "end:   string appended after the last value, default a newline.\n",
                        "flush: whether to forcibly flush the stream.\n",
                        "\u001b[0;31mType:\u001b[0m      builtin_function_or_method\n"
                    ]
                }
            ],
            "metadata": {}
        },
        {
            "cell_type": "code",
            "execution_count": 17,
            "source": [
                "def add_numbers(a, b):\n",
                "    \"\"\"\n",
                "    Add two numbers together\n",
                "    \n",
                "    Returns\n",
                "    -------\n",
                "    the_sum : type of arguments\n",
                "    \"\"\"\n",
                "    return a + b"
            ],
            "outputs": [],
            "metadata": {}
        },
        {
            "cell_type": "code",
            "execution_count": 18,
            "source": [
                "add_numbers?"
            ],
            "outputs": [
                {
                    "output_type": "stream",
                    "name": "stdout",
                    "text": [
                        "\u001b[0;31mSignature:\u001b[0m \u001b[0madd_numbers\u001b[0m\u001b[0;34m(\u001b[0m\u001b[0ma\u001b[0m\u001b[0;34m,\u001b[0m \u001b[0mb\u001b[0m\u001b[0;34m)\u001b[0m\u001b[0;34m\u001b[0m\u001b[0;34m\u001b[0m\u001b[0m\n",
                        "\u001b[0;31mDocstring:\u001b[0m\n",
                        "Add two numbers together\n",
                        "\n",
                        "Returns\n",
                        "-------\n",
                        "the_sum : type of arguments\n",
                        "\u001b[0;31mFile:\u001b[0m      ~/Documents/python/python_for_data_analysis/<ipython-input-17-18f6192d3150>\n",
                        "\u001b[0;31mType:\u001b[0m      function\n"
                    ]
                }
            ],
            "metadata": {}
        },
        {
            "cell_type": "code",
            "execution_count": 19,
            "source": [
                "add_numbers??"
            ],
            "outputs": [
                {
                    "output_type": "stream",
                    "name": "stdout",
                    "text": [
                        "\u001b[0;31mSignature:\u001b[0m \u001b[0madd_numbers\u001b[0m\u001b[0;34m(\u001b[0m\u001b[0ma\u001b[0m\u001b[0;34m,\u001b[0m \u001b[0mb\u001b[0m\u001b[0;34m)\u001b[0m\u001b[0;34m\u001b[0m\u001b[0;34m\u001b[0m\u001b[0m\n",
                        "\u001b[0;31mSource:\u001b[0m   \n",
                        "\u001b[0;32mdef\u001b[0m \u001b[0madd_numbers\u001b[0m\u001b[0;34m(\u001b[0m\u001b[0ma\u001b[0m\u001b[0;34m,\u001b[0m \u001b[0mb\u001b[0m\u001b[0;34m)\u001b[0m\u001b[0;34m:\u001b[0m\u001b[0;34m\u001b[0m\n",
                        "\u001b[0;34m\u001b[0m    \u001b[0;34m\"\"\"\u001b[0m\n",
                        "\u001b[0;34m    Add two numbers together\u001b[0m\n",
                        "\u001b[0;34m    \u001b[0m\n",
                        "\u001b[0;34m    Returns\u001b[0m\n",
                        "\u001b[0;34m    -------\u001b[0m\n",
                        "\u001b[0;34m    the_sum : type of arguments\u001b[0m\n",
                        "\u001b[0;34m    \"\"\"\u001b[0m\u001b[0;34m\u001b[0m\n",
                        "\u001b[0;34m\u001b[0m    \u001b[0;32mreturn\u001b[0m \u001b[0ma\u001b[0m \u001b[0;34m+\u001b[0m \u001b[0mb\u001b[0m\u001b[0;34m\u001b[0m\u001b[0;34m\u001b[0m\u001b[0m\n",
                        "\u001b[0;31mFile:\u001b[0m      ~/Documents/python/python_for_data_analysis/<ipython-input-17-18f6192d3150>\n",
                        "\u001b[0;31mType:\u001b[0m      function\n"
                    ]
                }
            ],
            "metadata": {}
        },
        {
            "cell_type": "code",
            "execution_count": 20,
            "source": [
                "np.*load*?"
            ],
            "outputs": [
                {
                    "output_type": "stream",
                    "name": "stdout",
                    "text": [
                        "np.__loader__\n",
                        "np.load\n",
                        "np.loads\n",
                        "np.loadtxt"
                    ]
                }
            ],
            "metadata": {}
        },
        {
            "cell_type": "markdown",
            "source": [
                "### The %run Command"
            ],
            "metadata": {}
        },
        {
            "cell_type": "code",
            "execution_count": 27,
            "source": [
                "%run ipython_script_test.py"
            ],
            "outputs": [],
            "metadata": {}
        },
        {
            "cell_type": "code",
            "execution_count": 28,
            "source": [
                "c"
            ],
            "outputs": [
                {
                    "output_type": "execute_result",
                    "data": {
                        "text/plain": [
                            "7.5"
                        ]
                    },
                    "metadata": {},
                    "execution_count": 28
                }
            ],
            "metadata": {}
        },
        {
            "cell_type": "code",
            "execution_count": 29,
            "source": [
                "result"
            ],
            "outputs": [
                {
                    "output_type": "execute_result",
                    "data": {
                        "text/plain": [
                            "1.4666666666666666"
                        ]
                    },
                    "metadata": {},
                    "execution_count": 29
                }
            ],
            "metadata": {}
        },
        {
            "cell_type": "code",
            "execution_count": 30,
            "source": [
                "# %load ipython_script_test.py\n",
                "def f(x, y, z):\n",
                "    return (x + y) / z\n",
                "\n",
                "a, b, c = 5, 6, 7.5\n",
                "result = f(a, b, c)"
            ],
            "outputs": [],
            "metadata": {}
        },
        {
            "cell_type": "code",
            "execution_count": null,
            "source": [],
            "outputs": [],
            "metadata": {}
        }
    ],
    "metadata": {
        "orig_nbformat": 4,
        "language_info": {
            "name": "python",
            "version": "3.8.3",
            "mimetype": "text/x-python",
            "codemirror_mode": {
                "name": "ipython",
                "version": 3
            },
            "pygments_lexer": "ipython3",
            "nbconvert_exporter": "python",
            "file_extension": ".py"
        },
        "kernelspec": {
            "name": "python3",
            "display_name": "Python 3.8.3 64-bit"
        },
        "interpreter": {
            "hash": "aee8b7b246df8f9039afb4144a1f6fd8d2ca17a180786b69acc140d282b71a49"
        }
    },
    "nbformat": 4,
    "nbformat_minor": 2
}