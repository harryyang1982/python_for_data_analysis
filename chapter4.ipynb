{
    "cells": [
        {
            "cell_type": "code",
            "execution_count": 2,
            "metadata": {},
            "outputs": [],
            "source": [
                "import numpy as np"
            ]
        },
        {
            "cell_type": "code",
            "execution_count": 2,
            "metadata": {},
            "outputs": [],
            "source": [
                "my_arr = np.arange(1000000)"
            ]
        },
        {
            "cell_type": "code",
            "execution_count": 3,
            "metadata": {},
            "outputs": [],
            "source": [
                "my_list = list(range(1000000))"
            ]
        },
        {
            "cell_type": "code",
            "execution_count": 4,
            "metadata": {},
            "outputs": [
                {
                    "name": "stdout",
                    "output_type": "stream",
                    "text": [
                        "CPU times: user 19.8 ms, sys: 18.6 ms, total: 38.4 ms\n",
                        "Wall time: 36.9 ms\n"
                    ]
                }
            ],
            "source": [
                "%time for _ in range(10): my_arr2 = my_arr * 2"
            ]
        },
        {
            "cell_type": "code",
            "execution_count": 5,
            "metadata": {},
            "outputs": [
                {
                    "name": "stdout",
                    "output_type": "stream",
                    "text": [
                        "CPU times: user 568 ms, sys: 94.8 ms, total: 663 ms\n",
                        "Wall time: 664 ms\n"
                    ]
                }
            ],
            "source": [
                "%time for _ in range(10): my_list2 = [x * 2 for x in my_list]"
            ]
        },
        {
            "cell_type": "markdown",
            "metadata": {},
            "source": [
                "### 4.1 The NumPy ndarray: A Multidimensional Array Object"
            ]
        },
        {
            "cell_type": "code",
            "execution_count": 6,
            "metadata": {},
            "outputs": [],
            "source": [
                "data = np.random.randn(2, 3)"
            ]
        },
        {
            "cell_type": "code",
            "execution_count": 7,
            "metadata": {},
            "outputs": [
                {
                    "data": {
                        "text/plain": [
                            "array([[-0.16632703, -1.83105701,  0.26090113],\n",
                            "       [ 0.67361233,  0.06975718,  0.32618885]])"
                        ]
                    },
                    "execution_count": 7,
                    "metadata": {},
                    "output_type": "execute_result"
                }
            ],
            "source": [
                "data"
            ]
        },
        {
            "cell_type": "code",
            "execution_count": 8,
            "metadata": {},
            "outputs": [
                {
                    "data": {
                        "text/plain": [
                            "array([[ -1.66327027, -18.31057011,   2.60901128],\n",
                            "       [  6.7361233 ,   0.69757185,   3.26188852]])"
                        ]
                    },
                    "execution_count": 8,
                    "metadata": {},
                    "output_type": "execute_result"
                }
            ],
            "source": [
                "data * 10"
            ]
        },
        {
            "cell_type": "code",
            "execution_count": 9,
            "metadata": {},
            "outputs": [
                {
                    "data": {
                        "text/plain": [
                            "array([[-0.33265405, -3.66211402,  0.52180226],\n",
                            "       [ 1.34722466,  0.13951437,  0.6523777 ]])"
                        ]
                    },
                    "execution_count": 9,
                    "metadata": {},
                    "output_type": "execute_result"
                }
            ],
            "source": [
                "data + data"
            ]
        },
        {
            "cell_type": "code",
            "execution_count": 10,
            "metadata": {},
            "outputs": [
                {
                    "data": {
                        "text/plain": [
                            "(2, 3)"
                        ]
                    },
                    "execution_count": 10,
                    "metadata": {},
                    "output_type": "execute_result"
                }
            ],
            "source": [
                "data.shape"
            ]
        },
        {
            "cell_type": "code",
            "execution_count": 11,
            "metadata": {},
            "outputs": [
                {
                    "data": {
                        "text/plain": [
                            "dtype('float64')"
                        ]
                    },
                    "execution_count": 11,
                    "metadata": {},
                    "output_type": "execute_result"
                }
            ],
            "source": [
                "data.dtype"
            ]
        },
        {
            "cell_type": "markdown",
            "metadata": {},
            "source": [
                "### Creating ndarrays"
            ]
        },
        {
            "cell_type": "code",
            "execution_count": 12,
            "metadata": {},
            "outputs": [],
            "source": [
                "data1 = [6, 7.5, 8, 0, 1]"
            ]
        },
        {
            "cell_type": "code",
            "execution_count": 13,
            "metadata": {},
            "outputs": [],
            "source": [
                "arr1 = np.array(data1)"
            ]
        },
        {
            "cell_type": "code",
            "execution_count": 14,
            "metadata": {},
            "outputs": [
                {
                    "data": {
                        "text/plain": [
                            "array([6. , 7.5, 8. , 0. , 1. ])"
                        ]
                    },
                    "execution_count": 14,
                    "metadata": {},
                    "output_type": "execute_result"
                }
            ],
            "source": [
                "arr1"
            ]
        },
        {
            "cell_type": "code",
            "execution_count": 15,
            "metadata": {},
            "outputs": [],
            "source": [
                "data2 = [[1, 2, 3, 4], [5, 6, 7, 8]]"
            ]
        },
        {
            "cell_type": "code",
            "execution_count": 16,
            "metadata": {},
            "outputs": [],
            "source": [
                "arr2 = np.array(data2)"
            ]
        },
        {
            "cell_type": "code",
            "execution_count": 17,
            "metadata": {},
            "outputs": [
                {
                    "data": {
                        "text/plain": [
                            "array([[1, 2, 3, 4],\n",
                            "       [5, 6, 7, 8]])"
                        ]
                    },
                    "execution_count": 17,
                    "metadata": {},
                    "output_type": "execute_result"
                }
            ],
            "source": [
                "arr2"
            ]
        },
        {
            "cell_type": "code",
            "execution_count": 18,
            "metadata": {},
            "outputs": [
                {
                    "data": {
                        "text/plain": [
                            "2"
                        ]
                    },
                    "execution_count": 18,
                    "metadata": {},
                    "output_type": "execute_result"
                }
            ],
            "source": [
                "arr2.ndim"
            ]
        },
        {
            "cell_type": "code",
            "execution_count": 19,
            "metadata": {},
            "outputs": [
                {
                    "data": {
                        "text/plain": [
                            "(2, 4)"
                        ]
                    },
                    "execution_count": 19,
                    "metadata": {},
                    "output_type": "execute_result"
                }
            ],
            "source": [
                "arr2.shape"
            ]
        },
        {
            "cell_type": "code",
            "execution_count": 20,
            "metadata": {},
            "outputs": [
                {
                    "data": {
                        "text/plain": [
                            "dtype('float64')"
                        ]
                    },
                    "execution_count": 20,
                    "metadata": {},
                    "output_type": "execute_result"
                }
            ],
            "source": [
                "arr1.dtype"
            ]
        },
        {
            "cell_type": "code",
            "execution_count": 21,
            "metadata": {},
            "outputs": [
                {
                    "data": {
                        "text/plain": [
                            "dtype('int64')"
                        ]
                    },
                    "execution_count": 21,
                    "metadata": {},
                    "output_type": "execute_result"
                }
            ],
            "source": [
                "arr2.dtype"
            ]
        },
        {
            "cell_type": "code",
            "execution_count": 22,
            "metadata": {},
            "outputs": [
                {
                    "data": {
                        "text/plain": [
                            "array([0., 0., 0., 0., 0., 0., 0., 0., 0., 0.])"
                        ]
                    },
                    "execution_count": 22,
                    "metadata": {},
                    "output_type": "execute_result"
                }
            ],
            "source": [
                "np.zeros(10)"
            ]
        },
        {
            "cell_type": "code",
            "execution_count": 23,
            "metadata": {},
            "outputs": [
                {
                    "data": {
                        "text/plain": [
                            "array([[0., 0., 0., 0., 0., 0.],\n",
                            "       [0., 0., 0., 0., 0., 0.],\n",
                            "       [0., 0., 0., 0., 0., 0.]])"
                        ]
                    },
                    "execution_count": 23,
                    "metadata": {},
                    "output_type": "execute_result"
                }
            ],
            "source": [
                "np.zeros((3, 6))"
            ]
        },
        {
            "cell_type": "code",
            "execution_count": 24,
            "metadata": {},
            "outputs": [
                {
                    "data": {
                        "text/plain": [
                            "array([[[0.00000000e+000, 2.37151510e-322],\n",
                            "        [0.00000000e+000, 0.00000000e+000],\n",
                            "        [5.21501686e-310, 1.61590357e+184]],\n",
                            "\n",
                            "       [[6.86671398e-091, 2.03890577e+160],\n",
                            "        [1.00527912e-047, 2.44748117e-056],\n",
                            "        [3.99910963e+252, 1.46030983e-319]]])"
                        ]
                    },
                    "execution_count": 24,
                    "metadata": {},
                    "output_type": "execute_result"
                }
            ],
            "source": [
                "np.empty((2, 3, 2))"
            ]
        },
        {
            "cell_type": "code",
            "execution_count": 25,
            "metadata": {},
            "outputs": [
                {
                    "data": {
                        "text/plain": [
                            "array([ 0,  1,  2,  3,  4,  5,  6,  7,  8,  9, 10, 11, 12, 13, 14])"
                        ]
                    },
                    "execution_count": 25,
                    "metadata": {},
                    "output_type": "execute_result"
                }
            ],
            "source": [
                "np.arange(15)"
            ]
        },
        {
            "cell_type": "markdown",
            "metadata": {},
            "source": [
                "### Data Types for ndarrays"
            ]
        },
        {
            "cell_type": "code",
            "execution_count": 26,
            "metadata": {},
            "outputs": [],
            "source": [
                "arr1 = np.array([1, 2, 3], dtype=np.float64)"
            ]
        },
        {
            "cell_type": "code",
            "execution_count": 27,
            "metadata": {},
            "outputs": [],
            "source": [
                "arr2 = np.array([1, 2, 3], dtype=np.int32)"
            ]
        },
        {
            "cell_type": "code",
            "execution_count": 28,
            "metadata": {},
            "outputs": [
                {
                    "data": {
                        "text/plain": [
                            "dtype('float64')"
                        ]
                    },
                    "execution_count": 28,
                    "metadata": {},
                    "output_type": "execute_result"
                }
            ],
            "source": [
                "arr1.dtype"
            ]
        },
        {
            "cell_type": "code",
            "execution_count": 29,
            "metadata": {},
            "outputs": [
                {
                    "data": {
                        "text/plain": [
                            "array([1., 2., 3.])"
                        ]
                    },
                    "execution_count": 29,
                    "metadata": {},
                    "output_type": "execute_result"
                }
            ],
            "source": [
                "arr1"
            ]
        },
        {
            "cell_type": "code",
            "execution_count": 30,
            "metadata": {},
            "outputs": [
                {
                    "data": {
                        "text/plain": [
                            "dtype('int32')"
                        ]
                    },
                    "execution_count": 30,
                    "metadata": {},
                    "output_type": "execute_result"
                }
            ],
            "source": [
                "arr2.dtype"
            ]
        },
        {
            "cell_type": "code",
            "execution_count": 31,
            "metadata": {},
            "outputs": [],
            "source": [
                "arr = np.array([1, 2, 3, 4, 5])"
            ]
        },
        {
            "cell_type": "code",
            "execution_count": 32,
            "metadata": {},
            "outputs": [
                {
                    "data": {
                        "text/plain": [
                            "dtype('int64')"
                        ]
                    },
                    "execution_count": 32,
                    "metadata": {},
                    "output_type": "execute_result"
                }
            ],
            "source": [
                "arr.dtype"
            ]
        },
        {
            "cell_type": "code",
            "execution_count": 33,
            "metadata": {},
            "outputs": [],
            "source": [
                "float_arr = arr.astype(np.float64)"
            ]
        },
        {
            "cell_type": "code",
            "execution_count": 34,
            "metadata": {},
            "outputs": [
                {
                    "data": {
                        "text/plain": [
                            "dtype('float64')"
                        ]
                    },
                    "execution_count": 34,
                    "metadata": {},
                    "output_type": "execute_result"
                }
            ],
            "source": [
                "float_arr.dtype"
            ]
        },
        {
            "cell_type": "code",
            "execution_count": 35,
            "metadata": {},
            "outputs": [],
            "source": [
                "arr = np.array([3.7, -1.2, -2.6, 0.5, 12.9, 10.1])"
            ]
        },
        {
            "cell_type": "code",
            "execution_count": 36,
            "metadata": {},
            "outputs": [
                {
                    "data": {
                        "text/plain": [
                            "array([ 3.7, -1.2, -2.6,  0.5, 12.9, 10.1])"
                        ]
                    },
                    "execution_count": 36,
                    "metadata": {},
                    "output_type": "execute_result"
                }
            ],
            "source": [
                "arr"
            ]
        },
        {
            "cell_type": "code",
            "execution_count": 37,
            "metadata": {},
            "outputs": [
                {
                    "data": {
                        "text/plain": [
                            "array([ 3, -1, -2,  0, 12, 10], dtype=int32)"
                        ]
                    },
                    "execution_count": 37,
                    "metadata": {},
                    "output_type": "execute_result"
                }
            ],
            "source": [
                "arr.astype(np.int32)"
            ]
        },
        {
            "cell_type": "code",
            "execution_count": 38,
            "metadata": {},
            "outputs": [],
            "source": [
                "numeric_strings = np.array(['1.25', '-9.6', '42'], dtype=np.string_)"
            ]
        },
        {
            "cell_type": "code",
            "execution_count": 39,
            "metadata": {},
            "outputs": [
                {
                    "data": {
                        "text/plain": [
                            "array([ 1.25, -9.6 , 42.  ])"
                        ]
                    },
                    "execution_count": 39,
                    "metadata": {},
                    "output_type": "execute_result"
                }
            ],
            "source": [
                "numeric_strings.astype(float)"
            ]
        },
        {
            "cell_type": "code",
            "execution_count": 40,
            "metadata": {},
            "outputs": [],
            "source": [
                "int_array = np.arange(10)"
            ]
        },
        {
            "cell_type": "code",
            "execution_count": 41,
            "metadata": {},
            "outputs": [],
            "source": [
                "calibers = np.array([.22, .270, .357, .380, .44, .50], dtype=np.float64)"
            ]
        },
        {
            "cell_type": "code",
            "execution_count": 42,
            "metadata": {},
            "outputs": [
                {
                    "data": {
                        "text/plain": [
                            "array([0., 1., 2., 3., 4., 5., 6., 7., 8., 9.])"
                        ]
                    },
                    "execution_count": 42,
                    "metadata": {},
                    "output_type": "execute_result"
                }
            ],
            "source": [
                "int_array.astype(calibers.dtype)"
            ]
        },
        {
            "cell_type": "code",
            "execution_count": 43,
            "metadata": {},
            "outputs": [],
            "source": [
                "empty_unit32 = np.empty(8, dtype='u4')"
            ]
        },
        {
            "cell_type": "code",
            "execution_count": 44,
            "metadata": {},
            "outputs": [
                {
                    "data": {
                        "text/plain": [
                            "array([         0, 1075314688,          0, 1075707904,          0,\n",
                            "       1075838976,          0, 1072693248], dtype=uint32)"
                        ]
                    },
                    "execution_count": 44,
                    "metadata": {},
                    "output_type": "execute_result"
                }
            ],
            "source": [
                "empty_unit32"
            ]
        },
        {
            "cell_type": "markdown",
            "metadata": {},
            "source": [
                "### Arithmetic with NumPy Arrays"
            ]
        },
        {
            "cell_type": "code",
            "execution_count": 45,
            "metadata": {},
            "outputs": [],
            "source": [
                "arr = np.array([[1., 2., 3.], [4., 5., 6.]])"
            ]
        },
        {
            "cell_type": "code",
            "execution_count": 46,
            "metadata": {},
            "outputs": [
                {
                    "data": {
                        "text/plain": [
                            "array([[1., 2., 3.],\n",
                            "       [4., 5., 6.]])"
                        ]
                    },
                    "execution_count": 46,
                    "metadata": {},
                    "output_type": "execute_result"
                }
            ],
            "source": [
                "arr"
            ]
        },
        {
            "cell_type": "code",
            "execution_count": 47,
            "metadata": {},
            "outputs": [
                {
                    "data": {
                        "text/plain": [
                            "array([[ 1.,  4.,  9.],\n",
                            "       [16., 25., 36.]])"
                        ]
                    },
                    "execution_count": 47,
                    "metadata": {},
                    "output_type": "execute_result"
                }
            ],
            "source": [
                "arr * arr"
            ]
        },
        {
            "cell_type": "code",
            "execution_count": 48,
            "metadata": {},
            "outputs": [
                {
                    "data": {
                        "text/plain": [
                            "array([[0., 0., 0.],\n",
                            "       [0., 0., 0.]])"
                        ]
                    },
                    "execution_count": 48,
                    "metadata": {},
                    "output_type": "execute_result"
                }
            ],
            "source": [
                "arr - arr"
            ]
        },
        {
            "cell_type": "code",
            "execution_count": 49,
            "metadata": {},
            "outputs": [
                {
                    "data": {
                        "text/plain": [
                            "array([[1.        , 0.5       , 0.33333333],\n",
                            "       [0.25      , 0.2       , 0.16666667]])"
                        ]
                    },
                    "execution_count": 49,
                    "metadata": {},
                    "output_type": "execute_result"
                }
            ],
            "source": [
                "1 / arr"
            ]
        },
        {
            "cell_type": "code",
            "execution_count": 50,
            "metadata": {},
            "outputs": [
                {
                    "data": {
                        "text/plain": [
                            "array([[1.        , 1.41421356, 1.73205081],\n",
                            "       [2.        , 2.23606798, 2.44948974]])"
                        ]
                    },
                    "execution_count": 50,
                    "metadata": {},
                    "output_type": "execute_result"
                }
            ],
            "source": [
                "arr ** 0.5"
            ]
        },
        {
            "cell_type": "code",
            "execution_count": 52,
            "metadata": {},
            "outputs": [
                {
                    "data": {
                        "text/plain": [
                            "array([[0.        , 0.69314718, 1.09861229],\n",
                            "       [1.38629436, 1.60943791, 1.79175947]])"
                        ]
                    },
                    "execution_count": 52,
                    "metadata": {},
                    "output_type": "execute_result"
                }
            ],
            "source": [
                "np.log(arr)"
            ]
        },
        {
            "cell_type": "code",
            "execution_count": 53,
            "metadata": {},
            "outputs": [
                {
                    "data": {
                        "text/plain": [
                            "array([[1.        , 1.41421356, 1.73205081],\n",
                            "       [2.        , 2.23606798, 2.44948974]])"
                        ]
                    },
                    "execution_count": 53,
                    "metadata": {},
                    "output_type": "execute_result"
                }
            ],
            "source": [
                "np.sqrt(arr)"
            ]
        },
        {
            "cell_type": "code",
            "execution_count": 54,
            "metadata": {},
            "outputs": [],
            "source": [
                "arr2 = np.array([[0., 4., 1.], [7., 2., 12.]])"
            ]
        },
        {
            "cell_type": "code",
            "execution_count": 55,
            "metadata": {},
            "outputs": [
                {
                    "data": {
                        "text/plain": [
                            "array([[ 0.,  4.,  1.],\n",
                            "       [ 7.,  2., 12.]])"
                        ]
                    },
                    "execution_count": 55,
                    "metadata": {},
                    "output_type": "execute_result"
                }
            ],
            "source": [
                "arr2"
            ]
        },
        {
            "cell_type": "code",
            "execution_count": 56,
            "metadata": {},
            "outputs": [
                {
                    "data": {
                        "text/plain": [
                            "array([[False,  True, False],\n",
                            "       [ True, False,  True]])"
                        ]
                    },
                    "execution_count": 56,
                    "metadata": {},
                    "output_type": "execute_result"
                }
            ],
            "source": [
                "arr2 > arr"
            ]
        },
        {
            "cell_type": "markdown",
            "metadata": {},
            "source": [
                "### Basic Indexing and Slicing"
            ]
        },
        {
            "cell_type": "code",
            "execution_count": 57,
            "metadata": {},
            "outputs": [],
            "source": [
                "arr = np.arange(10)"
            ]
        },
        {
            "cell_type": "code",
            "execution_count": 58,
            "metadata": {},
            "outputs": [
                {
                    "data": {
                        "text/plain": [
                            "array([0, 1, 2, 3, 4, 5, 6, 7, 8, 9])"
                        ]
                    },
                    "execution_count": 58,
                    "metadata": {},
                    "output_type": "execute_result"
                }
            ],
            "source": [
                "arr"
            ]
        },
        {
            "cell_type": "code",
            "execution_count": 59,
            "metadata": {},
            "outputs": [
                {
                    "data": {
                        "text/plain": [
                            "5"
                        ]
                    },
                    "execution_count": 59,
                    "metadata": {},
                    "output_type": "execute_result"
                }
            ],
            "source": [
                "arr[5]"
            ]
        },
        {
            "cell_type": "code",
            "execution_count": 60,
            "metadata": {},
            "outputs": [
                {
                    "data": {
                        "text/plain": [
                            "array([5, 6, 7])"
                        ]
                    },
                    "execution_count": 60,
                    "metadata": {},
                    "output_type": "execute_result"
                }
            ],
            "source": [
                "arr[5:8]"
            ]
        },
        {
            "cell_type": "code",
            "execution_count": 61,
            "metadata": {},
            "outputs": [
                {
                    "data": {
                        "text/plain": [
                            "array([5, 6, 7])"
                        ]
                    },
                    "execution_count": 61,
                    "metadata": {},
                    "output_type": "execute_result"
                }
            ],
            "source": [
                "arr[5:8]"
            ]
        },
        {
            "cell_type": "code",
            "execution_count": 62,
            "metadata": {},
            "outputs": [],
            "source": [
                "arr[5:8] = 12"
            ]
        },
        {
            "cell_type": "code",
            "execution_count": 63,
            "metadata": {},
            "outputs": [
                {
                    "data": {
                        "text/plain": [
                            "array([ 0,  1,  2,  3,  4, 12, 12, 12,  8,  9])"
                        ]
                    },
                    "execution_count": 63,
                    "metadata": {},
                    "output_type": "execute_result"
                }
            ],
            "source": [
                "arr"
            ]
        },
        {
            "cell_type": "code",
            "execution_count": 64,
            "metadata": {},
            "outputs": [],
            "source": [
                "arr_slice = arr[5:8]"
            ]
        },
        {
            "cell_type": "code",
            "execution_count": 65,
            "metadata": {},
            "outputs": [
                {
                    "data": {
                        "text/plain": [
                            "array([12, 12, 12])"
                        ]
                    },
                    "execution_count": 65,
                    "metadata": {},
                    "output_type": "execute_result"
                }
            ],
            "source": [
                "arr_slice"
            ]
        },
        {
            "cell_type": "code",
            "execution_count": 66,
            "metadata": {},
            "outputs": [],
            "source": [
                "arr_slice[1] = 12345"
            ]
        },
        {
            "cell_type": "code",
            "execution_count": 67,
            "metadata": {},
            "outputs": [
                {
                    "data": {
                        "text/plain": [
                            "array([    0,     1,     2,     3,     4,    12, 12345,    12,     8,\n",
                            "           9])"
                        ]
                    },
                    "execution_count": 67,
                    "metadata": {},
                    "output_type": "execute_result"
                }
            ],
            "source": [
                "arr"
            ]
        },
        {
            "cell_type": "code",
            "execution_count": 68,
            "metadata": {},
            "outputs": [],
            "source": [
                "arr_slice[:] = 64"
            ]
        },
        {
            "cell_type": "code",
            "execution_count": 69,
            "metadata": {},
            "outputs": [
                {
                    "data": {
                        "text/plain": [
                            "array([ 0,  1,  2,  3,  4, 64, 64, 64,  8,  9])"
                        ]
                    },
                    "execution_count": 69,
                    "metadata": {},
                    "output_type": "execute_result"
                }
            ],
            "source": [
                "arr"
            ]
        },
        {
            "cell_type": "code",
            "execution_count": 20,
            "metadata": {},
            "outputs": [],
            "source": [
                "arr2d = np.array([[1, 2, 3], [4, 5, 6], [7, 8, 9]])"
            ]
        },
        {
            "cell_type": "code",
            "execution_count": 72,
            "metadata": {},
            "outputs": [
                {
                    "data": {
                        "text/plain": [
                            "array([7, 8, 9])"
                        ]
                    },
                    "execution_count": 72,
                    "metadata": {},
                    "output_type": "execute_result"
                }
            ],
            "source": [
                "arr2d[2]"
            ]
        },
        {
            "cell_type": "code",
            "execution_count": 74,
            "metadata": {},
            "outputs": [
                {
                    "data": {
                        "text/plain": [
                            "3"
                        ]
                    },
                    "execution_count": 74,
                    "metadata": {},
                    "output_type": "execute_result"
                }
            ],
            "source": [
                "arr2d[0][2]"
            ]
        },
        {
            "cell_type": "code",
            "execution_count": 75,
            "metadata": {},
            "outputs": [
                {
                    "data": {
                        "text/plain": [
                            "3"
                        ]
                    },
                    "execution_count": 75,
                    "metadata": {},
                    "output_type": "execute_result"
                }
            ],
            "source": [
                "arr2d[0, 2]"
            ]
        },
        {
            "cell_type": "code",
            "execution_count": 3,
            "metadata": {},
            "outputs": [],
            "source": [
                "arr3d = np.array([[[1, 2, 3], [4, 5, 6]], [[7, 8, 9], [10, 11, 12]]])"
            ]
        },
        {
            "cell_type": "code",
            "execution_count": 4,
            "metadata": {},
            "outputs": [
                {
                    "data": {
                        "text/plain": [
                            "array([[[ 1,  2,  3],\n",
                            "        [ 4,  5,  6]],\n",
                            "\n",
                            "       [[ 7,  8,  9],\n",
                            "        [10, 11, 12]]])"
                        ]
                    },
                    "execution_count": 4,
                    "metadata": {},
                    "output_type": "execute_result"
                }
            ],
            "source": [
                "arr3d"
            ]
        },
        {
            "cell_type": "code",
            "execution_count": 5,
            "metadata": {},
            "outputs": [
                {
                    "data": {
                        "text/plain": [
                            "array([[1, 2, 3],\n",
                            "       [4, 5, 6]])"
                        ]
                    },
                    "execution_count": 5,
                    "metadata": {},
                    "output_type": "execute_result"
                }
            ],
            "source": [
                "arr3d[0]"
            ]
        },
        {
            "cell_type": "code",
            "execution_count": 6,
            "metadata": {},
            "outputs": [],
            "source": [
                "old_values = arr3d[0].copy()"
            ]
        },
        {
            "cell_type": "code",
            "execution_count": 7,
            "metadata": {},
            "outputs": [],
            "source": [
                "arr3d[0] = 42"
            ]
        },
        {
            "cell_type": "code",
            "execution_count": 8,
            "metadata": {},
            "outputs": [
                {
                    "data": {
                        "text/plain": [
                            "array([[[42, 42, 42],\n",
                            "        [42, 42, 42]],\n",
                            "\n",
                            "       [[ 7,  8,  9],\n",
                            "        [10, 11, 12]]])"
                        ]
                    },
                    "execution_count": 8,
                    "metadata": {},
                    "output_type": "execute_result"
                }
            ],
            "source": [
                "arr3d"
            ]
        },
        {
            "cell_type": "code",
            "execution_count": 9,
            "metadata": {},
            "outputs": [],
            "source": [
                "arr3d[0] = old_values"
            ]
        },
        {
            "cell_type": "code",
            "execution_count": 10,
            "metadata": {},
            "outputs": [
                {
                    "data": {
                        "text/plain": [
                            "array([[[ 1,  2,  3],\n",
                            "        [ 4,  5,  6]],\n",
                            "\n",
                            "       [[ 7,  8,  9],\n",
                            "        [10, 11, 12]]])"
                        ]
                    },
                    "execution_count": 10,
                    "metadata": {},
                    "output_type": "execute_result"
                }
            ],
            "source": [
                "arr3d"
            ]
        },
        {
            "cell_type": "code",
            "execution_count": 11,
            "metadata": {},
            "outputs": [
                {
                    "data": {
                        "text/plain": [
                            "array([7, 8, 9])"
                        ]
                    },
                    "execution_count": 11,
                    "metadata": {},
                    "output_type": "execute_result"
                }
            ],
            "source": [
                "arr3d[1, 0]"
            ]
        },
        {
            "cell_type": "code",
            "execution_count": 12,
            "metadata": {},
            "outputs": [],
            "source": [
                "x = arr3d[1]"
            ]
        },
        {
            "cell_type": "code",
            "execution_count": 13,
            "metadata": {},
            "outputs": [
                {
                    "data": {
                        "text/plain": [
                            "array([[ 7,  8,  9],\n",
                            "       [10, 11, 12]])"
                        ]
                    },
                    "execution_count": 13,
                    "metadata": {},
                    "output_type": "execute_result"
                }
            ],
            "source": [
                "x"
            ]
        },
        {
            "cell_type": "code",
            "execution_count": 14,
            "metadata": {},
            "outputs": [
                {
                    "data": {
                        "text/plain": [
                            "array([7, 8, 9])"
                        ]
                    },
                    "execution_count": 14,
                    "metadata": {},
                    "output_type": "execute_result"
                }
            ],
            "source": [
                "x[0]"
            ]
        },
        {
            "cell_type": "code",
            "execution_count": 15,
            "metadata": {},
            "outputs": [
                {
                    "ename": "NameError",
                    "evalue": "name 'arr' is not defined",
                    "output_type": "error",
                    "traceback": [
                        "\u001b[1;31m---------------------------------------------------------------------------\u001b[0m",
                        "\u001b[1;31mNameError\u001b[0m                                 Traceback (most recent call last)",
                        "\u001b[1;32m<ipython-input-15-24a6d41c5b66>\u001b[0m in \u001b[0;36m<module>\u001b[1;34m\u001b[0m\n\u001b[1;32m----> 1\u001b[1;33m \u001b[0marr\u001b[0m\u001b[1;33m\u001b[0m\u001b[1;33m\u001b[0m\u001b[0m\n\u001b[0m",
                        "\u001b[1;31mNameError\u001b[0m: name 'arr' is not defined"
                    ]
                }
            ],
            "source": [
                "arr"
            ]
        },
        {
            "cell_type": "code",
            "execution_count": 16,
            "metadata": {},
            "outputs": [],
            "source": [
                "arr = np.array([0, 1, 2, 3, 4, 64, 64, 64, 8, 9])"
            ]
        },
        {
            "cell_type": "code",
            "execution_count": 17,
            "metadata": {},
            "outputs": [
                {
                    "data": {
                        "text/plain": [
                            "array([ 0,  1,  2,  3,  4, 64, 64, 64,  8,  9])"
                        ]
                    },
                    "execution_count": 17,
                    "metadata": {},
                    "output_type": "execute_result"
                }
            ],
            "source": [
                "arr"
            ]
        },
        {
            "cell_type": "code",
            "execution_count": 18,
            "metadata": {},
            "outputs": [
                {
                    "data": {
                        "text/plain": [
                            "array([ 1,  2,  3,  4, 64])"
                        ]
                    },
                    "execution_count": 18,
                    "metadata": {},
                    "output_type": "execute_result"
                }
            ],
            "source": [
                "arr[1:6]"
            ]
        },
        {
            "cell_type": "code",
            "execution_count": 21,
            "metadata": {},
            "outputs": [
                {
                    "data": {
                        "text/plain": [
                            "array([[1, 2, 3],\n",
                            "       [4, 5, 6],\n",
                            "       [7, 8, 9]])"
                        ]
                    },
                    "execution_count": 21,
                    "metadata": {},
                    "output_type": "execute_result"
                }
            ],
            "source": [
                "arr2d"
            ]
        },
        {
            "cell_type": "code",
            "execution_count": 22,
            "metadata": {},
            "outputs": [
                {
                    "data": {
                        "text/plain": [
                            "array([[1, 2, 3],\n",
                            "       [4, 5, 6]])"
                        ]
                    },
                    "execution_count": 22,
                    "metadata": {},
                    "output_type": "execute_result"
                }
            ],
            "source": [
                "arr2d[:2]"
            ]
        },
        {
            "cell_type": "code",
            "execution_count": 23,
            "metadata": {},
            "outputs": [
                {
                    "data": {
                        "text/plain": [
                            "array([[2, 3],\n",
                            "       [5, 6]])"
                        ]
                    },
                    "execution_count": 23,
                    "metadata": {},
                    "output_type": "execute_result"
                }
            ],
            "source": [
                "arr2d[:2, 1:]"
            ]
        },
        {
            "cell_type": "code",
            "execution_count": 24,
            "metadata": {},
            "outputs": [
                {
                    "data": {
                        "text/plain": [
                            "array([4, 5])"
                        ]
                    },
                    "execution_count": 24,
                    "metadata": {},
                    "output_type": "execute_result"
                }
            ],
            "source": [
                "arr2d[1, :2]"
            ]
        },
        {
            "cell_type": "code",
            "execution_count": 25,
            "metadata": {},
            "outputs": [
                {
                    "data": {
                        "text/plain": [
                            "array([3, 6])"
                        ]
                    },
                    "execution_count": 25,
                    "metadata": {},
                    "output_type": "execute_result"
                }
            ],
            "source": [
                "arr2d[:2, 2]"
            ]
        },
        {
            "cell_type": "code",
            "execution_count": 26,
            "metadata": {},
            "outputs": [
                {
                    "data": {
                        "text/plain": [
                            "array([[1],\n",
                            "       [4],\n",
                            "       [7]])"
                        ]
                    },
                    "execution_count": 26,
                    "metadata": {},
                    "output_type": "execute_result"
                }
            ],
            "source": [
                "arr2d[:, :1]"
            ]
        },
        {
            "cell_type": "code",
            "execution_count": 27,
            "metadata": {},
            "outputs": [],
            "source": [
                "arr2d[:2, 1:] = 0"
            ]
        },
        {
            "cell_type": "code",
            "execution_count": 28,
            "metadata": {},
            "outputs": [
                {
                    "data": {
                        "text/plain": [
                            "array([[1, 0, 0],\n",
                            "       [4, 0, 0],\n",
                            "       [7, 8, 9]])"
                        ]
                    },
                    "execution_count": 28,
                    "metadata": {},
                    "output_type": "execute_result"
                }
            ],
            "source": [
                "arr2d"
            ]
        },
        {
            "cell_type": "markdown",
            "metadata": {},
            "source": [
                "### Boolean Indexing"
            ]
        },
        {
            "cell_type": "code",
            "execution_count": 29,
            "metadata": {},
            "outputs": [],
            "source": [
                "names = np.array(['Bob', 'Joe', 'Will', 'Bob', 'Will', 'Joe', 'Joe'])"
            ]
        },
        {
            "cell_type": "code",
            "execution_count": 30,
            "metadata": {},
            "outputs": [],
            "source": [
                "data = np.random.randn(7, 4)"
            ]
        },
        {
            "cell_type": "code",
            "execution_count": 31,
            "metadata": {},
            "outputs": [
                {
                    "data": {
                        "text/plain": [
                            "array(['Bob', 'Joe', 'Will', 'Bob', 'Will', 'Joe', 'Joe'], dtype='<U4')"
                        ]
                    },
                    "execution_count": 31,
                    "metadata": {},
                    "output_type": "execute_result"
                }
            ],
            "source": [
                "names"
            ]
        },
        {
            "cell_type": "code",
            "execution_count": 32,
            "metadata": {},
            "outputs": [
                {
                    "data": {
                        "text/plain": [
                            "array([[-0.22349804, -2.57972509,  0.85473202,  1.68863868],\n",
                            "       [ 0.40475508, -0.45539086,  0.53586495, -1.11965927],\n",
                            "       [ 0.02817242, -2.30467477,  0.8120172 ,  0.24398721],\n",
                            "       [-1.23691998,  0.79951519,  0.32166858, -0.20398652],\n",
                            "       [-0.68460113, -0.11146738, -1.06724619, -1.02400548],\n",
                            "       [ 0.68301153, -0.94915636,  2.52491535, -1.79501104],\n",
                            "       [ 0.71849305,  0.96633929, -1.23989726,  0.24642423]])"
                        ]
                    },
                    "execution_count": 32,
                    "metadata": {},
                    "output_type": "execute_result"
                }
            ],
            "source": [
                "data"
            ]
        },
        {
            "cell_type": "code",
            "execution_count": 33,
            "metadata": {},
            "outputs": [
                {
                    "data": {
                        "text/plain": [
                            "array([ True, False, False,  True, False, False, False])"
                        ]
                    },
                    "execution_count": 33,
                    "metadata": {},
                    "output_type": "execute_result"
                }
            ],
            "source": [
                "names == 'Bob'"
            ]
        },
        {
            "cell_type": "code",
            "execution_count": 34,
            "metadata": {},
            "outputs": [
                {
                    "data": {
                        "text/plain": [
                            "array([[-0.22349804, -2.57972509,  0.85473202,  1.68863868],\n",
                            "       [-1.23691998,  0.79951519,  0.32166858, -0.20398652]])"
                        ]
                    },
                    "execution_count": 34,
                    "metadata": {},
                    "output_type": "execute_result"
                }
            ],
            "source": [
                "data[names == 'Bob']"
            ]
        },
        {
            "cell_type": "code",
            "execution_count": 35,
            "metadata": {},
            "outputs": [
                {
                    "data": {
                        "text/plain": [
                            "array([[ 0.85473202,  1.68863868],\n",
                            "       [ 0.32166858, -0.20398652]])"
                        ]
                    },
                    "execution_count": 35,
                    "metadata": {},
                    "output_type": "execute_result"
                }
            ],
            "source": [
                "data[names == 'Bob', 2:]"
            ]
        },
        {
            "cell_type": "code",
            "execution_count": 36,
            "metadata": {},
            "outputs": [
                {
                    "data": {
                        "text/plain": [
                            "array([False,  True,  True, False,  True,  True,  True])"
                        ]
                    },
                    "execution_count": 36,
                    "metadata": {},
                    "output_type": "execute_result"
                }
            ],
            "source": [
                "names != 'Bob'"
            ]
        },
        {
            "cell_type": "code",
            "execution_count": 37,
            "metadata": {},
            "outputs": [
                {
                    "data": {
                        "text/plain": [
                            "array([[ 0.40475508, -0.45539086,  0.53586495, -1.11965927],\n",
                            "       [ 0.02817242, -2.30467477,  0.8120172 ,  0.24398721],\n",
                            "       [-0.68460113, -0.11146738, -1.06724619, -1.02400548],\n",
                            "       [ 0.68301153, -0.94915636,  2.52491535, -1.79501104],\n",
                            "       [ 0.71849305,  0.96633929, -1.23989726,  0.24642423]])"
                        ]
                    },
                    "execution_count": 37,
                    "metadata": {},
                    "output_type": "execute_result"
                }
            ],
            "source": [
                "data[~(names == 'Bob')]"
            ]
        },
        {
            "cell_type": "code",
            "execution_count": 38,
            "metadata": {},
            "outputs": [
                {
                    "data": {
                        "text/plain": [
                            "array([[ 0.40475508, -0.45539086,  0.53586495, -1.11965927],\n",
                            "       [ 0.02817242, -2.30467477,  0.8120172 ,  0.24398721],\n",
                            "       [-0.68460113, -0.11146738, -1.06724619, -1.02400548],\n",
                            "       [ 0.68301153, -0.94915636,  2.52491535, -1.79501104],\n",
                            "       [ 0.71849305,  0.96633929, -1.23989726,  0.24642423]])"
                        ]
                    },
                    "execution_count": 38,
                    "metadata": {},
                    "output_type": "execute_result"
                }
            ],
            "source": [
                "data[names != 'Bob']"
            ]
        },
        {
            "cell_type": "code",
            "execution_count": 39,
            "metadata": {},
            "outputs": [],
            "source": [
                "cond = names == 'Bob'"
            ]
        },
        {
            "cell_type": "code",
            "execution_count": 40,
            "metadata": {},
            "outputs": [
                {
                    "data": {
                        "text/plain": [
                            "array([[ 0.40475508, -0.45539086,  0.53586495, -1.11965927],\n",
                            "       [ 0.02817242, -2.30467477,  0.8120172 ,  0.24398721],\n",
                            "       [-0.68460113, -0.11146738, -1.06724619, -1.02400548],\n",
                            "       [ 0.68301153, -0.94915636,  2.52491535, -1.79501104],\n",
                            "       [ 0.71849305,  0.96633929, -1.23989726,  0.24642423]])"
                        ]
                    },
                    "execution_count": 40,
                    "metadata": {},
                    "output_type": "execute_result"
                }
            ],
            "source": [
                "data[~cond]"
            ]
        },
        {
            "cell_type": "code",
            "execution_count": 41,
            "metadata": {},
            "outputs": [],
            "source": [
                "mask = (names == 'Bob') | (names == 'Will')"
            ]
        },
        {
            "cell_type": "code",
            "execution_count": 42,
            "metadata": {},
            "outputs": [
                {
                    "data": {
                        "text/plain": [
                            "array([ True, False,  True,  True,  True, False, False])"
                        ]
                    },
                    "execution_count": 42,
                    "metadata": {},
                    "output_type": "execute_result"
                }
            ],
            "source": [
                "mask"
            ]
        },
        {
            "cell_type": "code",
            "execution_count": 43,
            "metadata": {},
            "outputs": [
                {
                    "data": {
                        "text/plain": [
                            "array([[-0.22349804, -2.57972509,  0.85473202,  1.68863868],\n",
                            "       [ 0.02817242, -2.30467477,  0.8120172 ,  0.24398721],\n",
                            "       [-1.23691998,  0.79951519,  0.32166858, -0.20398652],\n",
                            "       [-0.68460113, -0.11146738, -1.06724619, -1.02400548]])"
                        ]
                    },
                    "execution_count": 43,
                    "metadata": {},
                    "output_type": "execute_result"
                }
            ],
            "source": [
                "data[mask]"
            ]
        },
        {
            "cell_type": "code",
            "execution_count": 44,
            "metadata": {},
            "outputs": [],
            "source": [
                "data[data < 0] = 0"
            ]
        },
        {
            "cell_type": "code",
            "execution_count": 45,
            "metadata": {},
            "outputs": [
                {
                    "data": {
                        "text/plain": [
                            "array([[0.        , 0.        , 0.85473202, 1.68863868],\n",
                            "       [0.40475508, 0.        , 0.53586495, 0.        ],\n",
                            "       [0.02817242, 0.        , 0.8120172 , 0.24398721],\n",
                            "       [0.        , 0.79951519, 0.32166858, 0.        ],\n",
                            "       [0.        , 0.        , 0.        , 0.        ],\n",
                            "       [0.68301153, 0.        , 2.52491535, 0.        ],\n",
                            "       [0.71849305, 0.96633929, 0.        , 0.24642423]])"
                        ]
                    },
                    "execution_count": 45,
                    "metadata": {},
                    "output_type": "execute_result"
                }
            ],
            "source": [
                "data"
            ]
        },
        {
            "cell_type": "code",
            "execution_count": 46,
            "metadata": {},
            "outputs": [],
            "source": [
                "data[names != 'Joe'] = 7"
            ]
        },
        {
            "cell_type": "code",
            "execution_count": 47,
            "metadata": {},
            "outputs": [
                {
                    "data": {
                        "text/plain": [
                            "array([[7.        , 7.        , 7.        , 7.        ],\n",
                            "       [0.40475508, 0.        , 0.53586495, 0.        ],\n",
                            "       [7.        , 7.        , 7.        , 7.        ],\n",
                            "       [7.        , 7.        , 7.        , 7.        ],\n",
                            "       [7.        , 7.        , 7.        , 7.        ],\n",
                            "       [0.68301153, 0.        , 2.52491535, 0.        ],\n",
                            "       [0.71849305, 0.96633929, 0.        , 0.24642423]])"
                        ]
                    },
                    "execution_count": 47,
                    "metadata": {},
                    "output_type": "execute_result"
                }
            ],
            "source": [
                "data"
            ]
        },
        {
            "cell_type": "markdown",
            "metadata": {},
            "source": [
                "### Fancy Indexing"
            ]
        },
        {
            "cell_type": "code",
            "execution_count": 48,
            "metadata": {},
            "outputs": [],
            "source": [
                "arr = np.empty((8, 4))"
            ]
        },
        {
            "cell_type": "code",
            "execution_count": 49,
            "metadata": {},
            "outputs": [],
            "source": [
                "for i in range(8):\n",
                "    arr[i] = i"
            ]
        },
        {
            "cell_type": "code",
            "execution_count": 50,
            "metadata": {},
            "outputs": [
                {
                    "data": {
                        "text/plain": [
                            "array([[0., 0., 0., 0.],\n",
                            "       [1., 1., 1., 1.],\n",
                            "       [2., 2., 2., 2.],\n",
                            "       [3., 3., 3., 3.],\n",
                            "       [4., 4., 4., 4.],\n",
                            "       [5., 5., 5., 5.],\n",
                            "       [6., 6., 6., 6.],\n",
                            "       [7., 7., 7., 7.]])"
                        ]
                    },
                    "execution_count": 50,
                    "metadata": {},
                    "output_type": "execute_result"
                }
            ],
            "source": [
                "arr"
            ]
        },
        {
            "cell_type": "code",
            "execution_count": 51,
            "metadata": {},
            "outputs": [
                {
                    "data": {
                        "text/plain": [
                            "array([[4., 4., 4., 4.],\n",
                            "       [3., 3., 3., 3.],\n",
                            "       [0., 0., 0., 0.],\n",
                            "       [6., 6., 6., 6.]])"
                        ]
                    },
                    "execution_count": 51,
                    "metadata": {},
                    "output_type": "execute_result"
                }
            ],
            "source": [
                "arr[[4, 3, 0, 6]]"
            ]
        },
        {
            "cell_type": "code",
            "execution_count": 52,
            "metadata": {},
            "outputs": [
                {
                    "data": {
                        "text/plain": [
                            "array([[5., 5., 5., 5.],\n",
                            "       [3., 3., 3., 3.],\n",
                            "       [1., 1., 1., 1.]])"
                        ]
                    },
                    "execution_count": 52,
                    "metadata": {},
                    "output_type": "execute_result"
                }
            ],
            "source": [
                "arr[[-3, -5, -7]]"
            ]
        },
        {
            "cell_type": "code",
            "execution_count": 53,
            "metadata": {},
            "outputs": [],
            "source": [
                "arr = np.arange(32).reshape((8, 4))"
            ]
        },
        {
            "cell_type": "code",
            "execution_count": 54,
            "metadata": {},
            "outputs": [
                {
                    "data": {
                        "text/plain": [
                            "array([[ 0,  1,  2,  3],\n",
                            "       [ 4,  5,  6,  7],\n",
                            "       [ 8,  9, 10, 11],\n",
                            "       [12, 13, 14, 15],\n",
                            "       [16, 17, 18, 19],\n",
                            "       [20, 21, 22, 23],\n",
                            "       [24, 25, 26, 27],\n",
                            "       [28, 29, 30, 31]])"
                        ]
                    },
                    "execution_count": 54,
                    "metadata": {},
                    "output_type": "execute_result"
                }
            ],
            "source": [
                "arr"
            ]
        },
        {
            "cell_type": "code",
            "execution_count": 55,
            "metadata": {},
            "outputs": [
                {
                    "data": {
                        "text/plain": [
                            "array([ 4, 23, 29, 10])"
                        ]
                    },
                    "execution_count": 55,
                    "metadata": {},
                    "output_type": "execute_result"
                }
            ],
            "source": [
                "arr[[1, 5, 7, 2], [0, 3, 1, 2]]"
            ]
        },
        {
            "cell_type": "code",
            "execution_count": 56,
            "metadata": {},
            "outputs": [
                {
                    "data": {
                        "text/plain": [
                            "array([[ 4,  7,  5,  6],\n",
                            "       [20, 23, 21, 22],\n",
                            "       [28, 31, 29, 30],\n",
                            "       [ 8, 11,  9, 10]])"
                        ]
                    },
                    "execution_count": 56,
                    "metadata": {},
                    "output_type": "execute_result"
                }
            ],
            "source": [
                "arr[[1, 5, 7, 2]][:, [0, 3, 1, 2]]"
            ]
        },
        {
            "cell_type": "markdown",
            "metadata": {},
            "source": [
                "#### Transposing Arrays and Swapping Axes"
            ]
        },
        {
            "cell_type": "code",
            "execution_count": 57,
            "metadata": {},
            "outputs": [],
            "source": [
                "arr = np.arange(15).reshape((3, 5))"
            ]
        },
        {
            "cell_type": "code",
            "execution_count": 58,
            "metadata": {},
            "outputs": [
                {
                    "data": {
                        "text/plain": [
                            "array([[ 0,  1,  2,  3,  4],\n",
                            "       [ 5,  6,  7,  8,  9],\n",
                            "       [10, 11, 12, 13, 14]])"
                        ]
                    },
                    "execution_count": 58,
                    "metadata": {},
                    "output_type": "execute_result"
                }
            ],
            "source": [
                "arr"
            ]
        },
        {
            "cell_type": "code",
            "execution_count": 59,
            "metadata": {},
            "outputs": [
                {
                    "data": {
                        "text/plain": [
                            "array([[ 0,  5, 10],\n",
                            "       [ 1,  6, 11],\n",
                            "       [ 2,  7, 12],\n",
                            "       [ 3,  8, 13],\n",
                            "       [ 4,  9, 14]])"
                        ]
                    },
                    "execution_count": 59,
                    "metadata": {},
                    "output_type": "execute_result"
                }
            ],
            "source": [
                "arr.T"
            ]
        },
        {
            "cell_type": "code",
            "execution_count": 60,
            "metadata": {},
            "outputs": [],
            "source": [
                "arr = np.random.randn(6, 3)"
            ]
        },
        {
            "cell_type": "code",
            "execution_count": 61,
            "metadata": {},
            "outputs": [
                {
                    "data": {
                        "text/plain": [
                            "array([[ 0.94611015, -1.26895183, -0.91636901],\n",
                            "       [ 0.69867899,  0.8719544 ,  0.94117615],\n",
                            "       [-1.0324089 , -0.0674162 ,  0.18709495],\n",
                            "       [ 1.74423538, -1.98047187, -0.46008858],\n",
                            "       [ 2.00206526,  0.12490731,  0.77450802],\n",
                            "       [ 0.29528137,  0.79160237,  1.52525064]])"
                        ]
                    },
                    "execution_count": 61,
                    "metadata": {},
                    "output_type": "execute_result"
                }
            ],
            "source": [
                "arr"
            ]
        },
        {
            "cell_type": "code",
            "execution_count": 62,
            "metadata": {},
            "outputs": [
                {
                    "data": {
                        "text/plain": [
                            "array([[ 9.58695831, -3.49234198,  0.79592639],\n",
                            "       [-3.49234198,  6.93959314,  4.18620381],\n",
                            "       [ 0.79592639,  4.18620381,  4.89848292]])"
                        ]
                    },
                    "execution_count": 62,
                    "metadata": {},
                    "output_type": "execute_result"
                }
            ],
            "source": [
                "np.dot(arr.T, arr)"
            ]
        },
        {
            "cell_type": "code",
            "execution_count": 63,
            "metadata": {},
            "outputs": [],
            "source": [
                "arr = np.arange(16).reshape((2, 2, 4))"
            ]
        },
        {
            "cell_type": "code",
            "execution_count": 64,
            "metadata": {},
            "outputs": [
                {
                    "data": {
                        "text/plain": [
                            "array([[[ 0,  1,  2,  3],\n",
                            "        [ 4,  5,  6,  7]],\n",
                            "\n",
                            "       [[ 8,  9, 10, 11],\n",
                            "        [12, 13, 14, 15]]])"
                        ]
                    },
                    "execution_count": 64,
                    "metadata": {},
                    "output_type": "execute_result"
                }
            ],
            "source": [
                "arr"
            ]
        },
        {
            "cell_type": "code",
            "execution_count": 65,
            "metadata": {},
            "outputs": [
                {
                    "data": {
                        "text/plain": [
                            "array([[[ 0,  1,  2,  3],\n",
                            "        [ 8,  9, 10, 11]],\n",
                            "\n",
                            "       [[ 4,  5,  6,  7],\n",
                            "        [12, 13, 14, 15]]])"
                        ]
                    },
                    "execution_count": 65,
                    "metadata": {},
                    "output_type": "execute_result"
                }
            ],
            "source": [
                "arr.transpose((1, 0, 2))"
            ]
        },
        {
            "cell_type": "code",
            "execution_count": 66,
            "metadata": {},
            "outputs": [
                {
                    "data": {
                        "text/plain": [
                            "array([[[ 0,  1,  2,  3],\n",
                            "        [ 4,  5,  6,  7]],\n",
                            "\n",
                            "       [[ 8,  9, 10, 11],\n",
                            "        [12, 13, 14, 15]]])"
                        ]
                    },
                    "execution_count": 66,
                    "metadata": {},
                    "output_type": "execute_result"
                }
            ],
            "source": [
                "arr"
            ]
        },
        {
            "cell_type": "code",
            "execution_count": 67,
            "metadata": {},
            "outputs": [
                {
                    "data": {
                        "text/plain": [
                            "array([[[ 0,  4],\n",
                            "        [ 1,  5],\n",
                            "        [ 2,  6],\n",
                            "        [ 3,  7]],\n",
                            "\n",
                            "       [[ 8, 12],\n",
                            "        [ 9, 13],\n",
                            "        [10, 14],\n",
                            "        [11, 15]]])"
                        ]
                    },
                    "execution_count": 67,
                    "metadata": {},
                    "output_type": "execute_result"
                }
            ],
            "source": [
                "arr.swapaxes(1, 2)"
            ]
        },
        {
            "cell_type": "markdown",
            "metadata": {},
            "source": [
                "## 4.2 Universal Functions: Fast Element-Wise Array Functions"
            ]
        },
        {
            "cell_type": "code",
            "execution_count": 68,
            "metadata": {},
            "outputs": [],
            "source": [
                "arr = np.arange(10)"
            ]
        },
        {
            "cell_type": "code",
            "execution_count": 69,
            "metadata": {},
            "outputs": [
                {
                    "data": {
                        "text/plain": [
                            "array([0, 1, 2, 3, 4, 5, 6, 7, 8, 9])"
                        ]
                    },
                    "execution_count": 69,
                    "metadata": {},
                    "output_type": "execute_result"
                }
            ],
            "source": [
                "arr"
            ]
        },
        {
            "cell_type": "code",
            "execution_count": 70,
            "metadata": {},
            "outputs": [
                {
                    "data": {
                        "text/plain": [
                            "array([0.        , 1.        , 1.41421356, 1.73205081, 2.        ,\n",
                            "       2.23606798, 2.44948974, 2.64575131, 2.82842712, 3.        ])"
                        ]
                    },
                    "execution_count": 70,
                    "metadata": {},
                    "output_type": "execute_result"
                }
            ],
            "source": [
                "np.sqrt(arr)"
            ]
        },
        {
            "cell_type": "code",
            "execution_count": 71,
            "metadata": {},
            "outputs": [
                {
                    "data": {
                        "text/plain": [
                            "array([1.00000000e+00, 2.71828183e+00, 7.38905610e+00, 2.00855369e+01,\n",
                            "       5.45981500e+01, 1.48413159e+02, 4.03428793e+02, 1.09663316e+03,\n",
                            "       2.98095799e+03, 8.10308393e+03])"
                        ]
                    },
                    "execution_count": 71,
                    "metadata": {},
                    "output_type": "execute_result"
                }
            ],
            "source": [
                "np.exp(arr)"
            ]
        },
        {
            "cell_type": "code",
            "execution_count": 72,
            "metadata": {},
            "outputs": [],
            "source": [
                "x = np.random.randn(8)"
            ]
        },
        {
            "cell_type": "code",
            "execution_count": 73,
            "metadata": {},
            "outputs": [],
            "source": [
                "y = np.random.randn(8)"
            ]
        },
        {
            "cell_type": "code",
            "execution_count": 74,
            "metadata": {},
            "outputs": [
                {
                    "data": {
                        "text/plain": [
                            "array([-0.19310781, -0.01953737,  0.92639909,  1.80018924, -0.41390847,\n",
                            "       -0.49245425, -1.0731726 , -2.01157551])"
                        ]
                    },
                    "execution_count": 74,
                    "metadata": {},
                    "output_type": "execute_result"
                }
            ],
            "source": [
                "x"
            ]
        },
        {
            "cell_type": "code",
            "execution_count": 75,
            "metadata": {},
            "outputs": [
                {
                    "data": {
                        "text/plain": [
                            "array([-1.17369096,  0.18217473,  1.63735148,  0.41142916, -0.52709227,\n",
                            "       -0.83757199, -1.64301879, -2.23995768])"
                        ]
                    },
                    "execution_count": 75,
                    "metadata": {},
                    "output_type": "execute_result"
                }
            ],
            "source": [
                "y"
            ]
        },
        {
            "cell_type": "code",
            "execution_count": 76,
            "metadata": {},
            "outputs": [
                {
                    "data": {
                        "text/plain": [
                            "array([-0.19310781,  0.18217473,  1.63735148,  1.80018924, -0.41390847,\n",
                            "       -0.49245425, -1.0731726 , -2.01157551])"
                        ]
                    },
                    "execution_count": 76,
                    "metadata": {},
                    "output_type": "execute_result"
                }
            ],
            "source": [
                "np.maximum(x, y)"
            ]
        },
        {
            "cell_type": "code",
            "execution_count": 77,
            "metadata": {},
            "outputs": [],
            "source": [
                "arr = np.random.randn(7) * 5"
            ]
        },
        {
            "cell_type": "code",
            "execution_count": 78,
            "metadata": {},
            "outputs": [
                {
                    "data": {
                        "text/plain": [
                            "array([ 4.08946278,  0.84895299, -7.73038066, -0.29953496, -0.87907321,\n",
                            "       -1.27337488,  4.21605229])"
                        ]
                    },
                    "execution_count": 78,
                    "metadata": {},
                    "output_type": "execute_result"
                }
            ],
            "source": [
                "arr"
            ]
        },
        {
            "cell_type": "code",
            "execution_count": 79,
            "metadata": {},
            "outputs": [],
            "source": [
                "arr = np.random.randn(7) * 5"
            ]
        },
        {
            "cell_type": "code",
            "execution_count": 80,
            "metadata": {},
            "outputs": [
                {
                    "data": {
                        "text/plain": [
                            "array([-6.16220973, -4.42759998, -5.14104122, 10.48066173, -6.88614048,\n",
                            "        3.04130408,  1.69835751])"
                        ]
                    },
                    "execution_count": 80,
                    "metadata": {},
                    "output_type": "execute_result"
                }
            ],
            "source": [
                "arr"
            ]
        },
        {
            "cell_type": "code",
            "execution_count": 81,
            "metadata": {},
            "outputs": [],
            "source": [
                "remainder, whole_part = np.modf(arr)"
            ]
        },
        {
            "cell_type": "code",
            "execution_count": 82,
            "metadata": {},
            "outputs": [
                {
                    "data": {
                        "text/plain": [
                            "array([-0.16220973, -0.42759998, -0.14104122,  0.48066173, -0.88614048,\n",
                            "        0.04130408,  0.69835751])"
                        ]
                    },
                    "execution_count": 82,
                    "metadata": {},
                    "output_type": "execute_result"
                }
            ],
            "source": [
                "remainder"
            ]
        },
        {
            "cell_type": "code",
            "execution_count": 83,
            "metadata": {},
            "outputs": [
                {
                    "data": {
                        "text/plain": [
                            "array([-6., -4., -5., 10., -6.,  3.,  1.])"
                        ]
                    },
                    "execution_count": 83,
                    "metadata": {},
                    "output_type": "execute_result"
                }
            ],
            "source": [
                "whole_part"
            ]
        },
        {
            "cell_type": "code",
            "execution_count": 84,
            "metadata": {},
            "outputs": [
                {
                    "data": {
                        "text/plain": [
                            "array([-6.16220973, -4.42759998, -5.14104122, 10.48066173, -6.88614048,\n",
                            "        3.04130408,  1.69835751])"
                        ]
                    },
                    "execution_count": 84,
                    "metadata": {},
                    "output_type": "execute_result"
                }
            ],
            "source": [
                "arr"
            ]
        },
        {
            "cell_type": "code",
            "execution_count": 85,
            "metadata": {},
            "outputs": [
                {
                    "name": "stderr",
                    "output_type": "stream",
                    "text": [
                        "<ipython-input-85-b58949107b3d>:1: RuntimeWarning: invalid value encountered in sqrt\n",
                        "  np.sqrt(arr)\n"
                    ]
                },
                {
                    "data": {
                        "text/plain": [
                            "array([       nan,        nan,        nan, 3.23738501,        nan,\n",
                            "       1.74393351, 1.30321046])"
                        ]
                    },
                    "execution_count": 85,
                    "metadata": {},
                    "output_type": "execute_result"
                }
            ],
            "source": [
                "np.sqrt(arr)"
            ]
        },
        {
            "cell_type": "code",
            "execution_count": 86,
            "metadata": {},
            "outputs": [
                {
                    "name": "stderr",
                    "output_type": "stream",
                    "text": [
                        "<ipython-input-86-164954cb2c14>:1: RuntimeWarning: invalid value encountered in sqrt\n",
                        "  np.sqrt(arr, arr)\n"
                    ]
                },
                {
                    "data": {
                        "text/plain": [
                            "array([       nan,        nan,        nan, 3.23738501,        nan,\n",
                            "       1.74393351, 1.30321046])"
                        ]
                    },
                    "execution_count": 86,
                    "metadata": {},
                    "output_type": "execute_result"
                }
            ],
            "source": [
                "np.sqrt(arr, arr)"
            ]
        },
        {
            "cell_type": "code",
            "execution_count": 87,
            "metadata": {},
            "outputs": [
                {
                    "data": {
                        "text/plain": [
                            "array([       nan,        nan,        nan, 3.23738501,        nan,\n",
                            "       1.74393351, 1.30321046])"
                        ]
                    },
                    "execution_count": 87,
                    "metadata": {},
                    "output_type": "execute_result"
                }
            ],
            "source": [
                "arr"
            ]
        },
        {
            "cell_type": "markdown",
            "metadata": {},
            "source": [
                "## 4.3 Array-Oriented Programming with Arrays"
            ]
        },
        {
            "cell_type": "code",
            "execution_count": 88,
            "metadata": {},
            "outputs": [],
            "source": [
                "points = np.arange(-5, 5, 0.01) # 1000 equally spaced points"
            ]
        },
        {
            "cell_type": "code",
            "execution_count": 89,
            "metadata": {},
            "outputs": [
                {
                    "data": {
                        "text/plain": [
                            "array([-5.0000000e+00, -4.9900000e+00, -4.9800000e+00, -4.9700000e+00,\n",
                            "       -4.9600000e+00, -4.9500000e+00, -4.9400000e+00, -4.9300000e+00,\n",
                            "       -4.9200000e+00, -4.9100000e+00, -4.9000000e+00, -4.8900000e+00,\n",
                            "       -4.8800000e+00, -4.8700000e+00, -4.8600000e+00, -4.8500000e+00,\n",
                            "       -4.8400000e+00, -4.8300000e+00, -4.8200000e+00, -4.8100000e+00,\n",
                            "       -4.8000000e+00, -4.7900000e+00, -4.7800000e+00, -4.7700000e+00,\n",
                            "       -4.7600000e+00, -4.7500000e+00, -4.7400000e+00, -4.7300000e+00,\n",
                            "       -4.7200000e+00, -4.7100000e+00, -4.7000000e+00, -4.6900000e+00,\n",
                            "       -4.6800000e+00, -4.6700000e+00, -4.6600000e+00, -4.6500000e+00,\n",
                            "       -4.6400000e+00, -4.6300000e+00, -4.6200000e+00, -4.6100000e+00,\n",
                            "       -4.6000000e+00, -4.5900000e+00, -4.5800000e+00, -4.5700000e+00,\n",
                            "       -4.5600000e+00, -4.5500000e+00, -4.5400000e+00, -4.5300000e+00,\n",
                            "       -4.5200000e+00, -4.5100000e+00, -4.5000000e+00, -4.4900000e+00,\n",
                            "       -4.4800000e+00, -4.4700000e+00, -4.4600000e+00, -4.4500000e+00,\n",
                            "       -4.4400000e+00, -4.4300000e+00, -4.4200000e+00, -4.4100000e+00,\n",
                            "       -4.4000000e+00, -4.3900000e+00, -4.3800000e+00, -4.3700000e+00,\n",
                            "       -4.3600000e+00, -4.3500000e+00, -4.3400000e+00, -4.3300000e+00,\n",
                            "       -4.3200000e+00, -4.3100000e+00, -4.3000000e+00, -4.2900000e+00,\n",
                            "       -4.2800000e+00, -4.2700000e+00, -4.2600000e+00, -4.2500000e+00,\n",
                            "       -4.2400000e+00, -4.2300000e+00, -4.2200000e+00, -4.2100000e+00,\n",
                            "       -4.2000000e+00, -4.1900000e+00, -4.1800000e+00, -4.1700000e+00,\n",
                            "       -4.1600000e+00, -4.1500000e+00, -4.1400000e+00, -4.1300000e+00,\n",
                            "       -4.1200000e+00, -4.1100000e+00, -4.1000000e+00, -4.0900000e+00,\n",
                            "       -4.0800000e+00, -4.0700000e+00, -4.0600000e+00, -4.0500000e+00,\n",
                            "       -4.0400000e+00, -4.0300000e+00, -4.0200000e+00, -4.0100000e+00,\n",
                            "       -4.0000000e+00, -3.9900000e+00, -3.9800000e+00, -3.9700000e+00,\n",
                            "       -3.9600000e+00, -3.9500000e+00, -3.9400000e+00, -3.9300000e+00,\n",
                            "       -3.9200000e+00, -3.9100000e+00, -3.9000000e+00, -3.8900000e+00,\n",
                            "       -3.8800000e+00, -3.8700000e+00, -3.8600000e+00, -3.8500000e+00,\n",
                            "       -3.8400000e+00, -3.8300000e+00, -3.8200000e+00, -3.8100000e+00,\n",
                            "       -3.8000000e+00, -3.7900000e+00, -3.7800000e+00, -3.7700000e+00,\n",
                            "       -3.7600000e+00, -3.7500000e+00, -3.7400000e+00, -3.7300000e+00,\n",
                            "       -3.7200000e+00, -3.7100000e+00, -3.7000000e+00, -3.6900000e+00,\n",
                            "       -3.6800000e+00, -3.6700000e+00, -3.6600000e+00, -3.6500000e+00,\n",
                            "       -3.6400000e+00, -3.6300000e+00, -3.6200000e+00, -3.6100000e+00,\n",
                            "       -3.6000000e+00, -3.5900000e+00, -3.5800000e+00, -3.5700000e+00,\n",
                            "       -3.5600000e+00, -3.5500000e+00, -3.5400000e+00, -3.5300000e+00,\n",
                            "       -3.5200000e+00, -3.5100000e+00, -3.5000000e+00, -3.4900000e+00,\n",
                            "       -3.4800000e+00, -3.4700000e+00, -3.4600000e+00, -3.4500000e+00,\n",
                            "       -3.4400000e+00, -3.4300000e+00, -3.4200000e+00, -3.4100000e+00,\n",
                            "       -3.4000000e+00, -3.3900000e+00, -3.3800000e+00, -3.3700000e+00,\n",
                            "       -3.3600000e+00, -3.3500000e+00, -3.3400000e+00, -3.3300000e+00,\n",
                            "       -3.3200000e+00, -3.3100000e+00, -3.3000000e+00, -3.2900000e+00,\n",
                            "       -3.2800000e+00, -3.2700000e+00, -3.2600000e+00, -3.2500000e+00,\n",
                            "       -3.2400000e+00, -3.2300000e+00, -3.2200000e+00, -3.2100000e+00,\n",
                            "       -3.2000000e+00, -3.1900000e+00, -3.1800000e+00, -3.1700000e+00,\n",
                            "       -3.1600000e+00, -3.1500000e+00, -3.1400000e+00, -3.1300000e+00,\n",
                            "       -3.1200000e+00, -3.1100000e+00, -3.1000000e+00, -3.0900000e+00,\n",
                            "       -3.0800000e+00, -3.0700000e+00, -3.0600000e+00, -3.0500000e+00,\n",
                            "       -3.0400000e+00, -3.0300000e+00, -3.0200000e+00, -3.0100000e+00,\n",
                            "       -3.0000000e+00, -2.9900000e+00, -2.9800000e+00, -2.9700000e+00,\n",
                            "       -2.9600000e+00, -2.9500000e+00, -2.9400000e+00, -2.9300000e+00,\n",
                            "       -2.9200000e+00, -2.9100000e+00, -2.9000000e+00, -2.8900000e+00,\n",
                            "       -2.8800000e+00, -2.8700000e+00, -2.8600000e+00, -2.8500000e+00,\n",
                            "       -2.8400000e+00, -2.8300000e+00, -2.8200000e+00, -2.8100000e+00,\n",
                            "       -2.8000000e+00, -2.7900000e+00, -2.7800000e+00, -2.7700000e+00,\n",
                            "       -2.7600000e+00, -2.7500000e+00, -2.7400000e+00, -2.7300000e+00,\n",
                            "       -2.7200000e+00, -2.7100000e+00, -2.7000000e+00, -2.6900000e+00,\n",
                            "       -2.6800000e+00, -2.6700000e+00, -2.6600000e+00, -2.6500000e+00,\n",
                            "       -2.6400000e+00, -2.6300000e+00, -2.6200000e+00, -2.6100000e+00,\n",
                            "       -2.6000000e+00, -2.5900000e+00, -2.5800000e+00, -2.5700000e+00,\n",
                            "       -2.5600000e+00, -2.5500000e+00, -2.5400000e+00, -2.5300000e+00,\n",
                            "       -2.5200000e+00, -2.5100000e+00, -2.5000000e+00, -2.4900000e+00,\n",
                            "       -2.4800000e+00, -2.4700000e+00, -2.4600000e+00, -2.4500000e+00,\n",
                            "       -2.4400000e+00, -2.4300000e+00, -2.4200000e+00, -2.4100000e+00,\n",
                            "       -2.4000000e+00, -2.3900000e+00, -2.3800000e+00, -2.3700000e+00,\n",
                            "       -2.3600000e+00, -2.3500000e+00, -2.3400000e+00, -2.3300000e+00,\n",
                            "       -2.3200000e+00, -2.3100000e+00, -2.3000000e+00, -2.2900000e+00,\n",
                            "       -2.2800000e+00, -2.2700000e+00, -2.2600000e+00, -2.2500000e+00,\n",
                            "       -2.2400000e+00, -2.2300000e+00, -2.2200000e+00, -2.2100000e+00,\n",
                            "       -2.2000000e+00, -2.1900000e+00, -2.1800000e+00, -2.1700000e+00,\n",
                            "       -2.1600000e+00, -2.1500000e+00, -2.1400000e+00, -2.1300000e+00,\n",
                            "       -2.1200000e+00, -2.1100000e+00, -2.1000000e+00, -2.0900000e+00,\n",
                            "       -2.0800000e+00, -2.0700000e+00, -2.0600000e+00, -2.0500000e+00,\n",
                            "       -2.0400000e+00, -2.0300000e+00, -2.0200000e+00, -2.0100000e+00,\n",
                            "       -2.0000000e+00, -1.9900000e+00, -1.9800000e+00, -1.9700000e+00,\n",
                            "       -1.9600000e+00, -1.9500000e+00, -1.9400000e+00, -1.9300000e+00,\n",
                            "       -1.9200000e+00, -1.9100000e+00, -1.9000000e+00, -1.8900000e+00,\n",
                            "       -1.8800000e+00, -1.8700000e+00, -1.8600000e+00, -1.8500000e+00,\n",
                            "       -1.8400000e+00, -1.8300000e+00, -1.8200000e+00, -1.8100000e+00,\n",
                            "       -1.8000000e+00, -1.7900000e+00, -1.7800000e+00, -1.7700000e+00,\n",
                            "       -1.7600000e+00, -1.7500000e+00, -1.7400000e+00, -1.7300000e+00,\n",
                            "       -1.7200000e+00, -1.7100000e+00, -1.7000000e+00, -1.6900000e+00,\n",
                            "       -1.6800000e+00, -1.6700000e+00, -1.6600000e+00, -1.6500000e+00,\n",
                            "       -1.6400000e+00, -1.6300000e+00, -1.6200000e+00, -1.6100000e+00,\n",
                            "       -1.6000000e+00, -1.5900000e+00, -1.5800000e+00, -1.5700000e+00,\n",
                            "       -1.5600000e+00, -1.5500000e+00, -1.5400000e+00, -1.5300000e+00,\n",
                            "       -1.5200000e+00, -1.5100000e+00, -1.5000000e+00, -1.4900000e+00,\n",
                            "       -1.4800000e+00, -1.4700000e+00, -1.4600000e+00, -1.4500000e+00,\n",
                            "       -1.4400000e+00, -1.4300000e+00, -1.4200000e+00, -1.4100000e+00,\n",
                            "       -1.4000000e+00, -1.3900000e+00, -1.3800000e+00, -1.3700000e+00,\n",
                            "       -1.3600000e+00, -1.3500000e+00, -1.3400000e+00, -1.3300000e+00,\n",
                            "       -1.3200000e+00, -1.3100000e+00, -1.3000000e+00, -1.2900000e+00,\n",
                            "       -1.2800000e+00, -1.2700000e+00, -1.2600000e+00, -1.2500000e+00,\n",
                            "       -1.2400000e+00, -1.2300000e+00, -1.2200000e+00, -1.2100000e+00,\n",
                            "       -1.2000000e+00, -1.1900000e+00, -1.1800000e+00, -1.1700000e+00,\n",
                            "       -1.1600000e+00, -1.1500000e+00, -1.1400000e+00, -1.1300000e+00,\n",
                            "       -1.1200000e+00, -1.1100000e+00, -1.1000000e+00, -1.0900000e+00,\n",
                            "       -1.0800000e+00, -1.0700000e+00, -1.0600000e+00, -1.0500000e+00,\n",
                            "       -1.0400000e+00, -1.0300000e+00, -1.0200000e+00, -1.0100000e+00,\n",
                            "       -1.0000000e+00, -9.9000000e-01, -9.8000000e-01, -9.7000000e-01,\n",
                            "       -9.6000000e-01, -9.5000000e-01, -9.4000000e-01, -9.3000000e-01,\n",
                            "       -9.2000000e-01, -9.1000000e-01, -9.0000000e-01, -8.9000000e-01,\n",
                            "       -8.8000000e-01, -8.7000000e-01, -8.6000000e-01, -8.5000000e-01,\n",
                            "       -8.4000000e-01, -8.3000000e-01, -8.2000000e-01, -8.1000000e-01,\n",
                            "       -8.0000000e-01, -7.9000000e-01, -7.8000000e-01, -7.7000000e-01,\n",
                            "       -7.6000000e-01, -7.5000000e-01, -7.4000000e-01, -7.3000000e-01,\n",
                            "       -7.2000000e-01, -7.1000000e-01, -7.0000000e-01, -6.9000000e-01,\n",
                            "       -6.8000000e-01, -6.7000000e-01, -6.6000000e-01, -6.5000000e-01,\n",
                            "       -6.4000000e-01, -6.3000000e-01, -6.2000000e-01, -6.1000000e-01,\n",
                            "       -6.0000000e-01, -5.9000000e-01, -5.8000000e-01, -5.7000000e-01,\n",
                            "       -5.6000000e-01, -5.5000000e-01, -5.4000000e-01, -5.3000000e-01,\n",
                            "       -5.2000000e-01, -5.1000000e-01, -5.0000000e-01, -4.9000000e-01,\n",
                            "       -4.8000000e-01, -4.7000000e-01, -4.6000000e-01, -4.5000000e-01,\n",
                            "       -4.4000000e-01, -4.3000000e-01, -4.2000000e-01, -4.1000000e-01,\n",
                            "       -4.0000000e-01, -3.9000000e-01, -3.8000000e-01, -3.7000000e-01,\n",
                            "       -3.6000000e-01, -3.5000000e-01, -3.4000000e-01, -3.3000000e-01,\n",
                            "       -3.2000000e-01, -3.1000000e-01, -3.0000000e-01, -2.9000000e-01,\n",
                            "       -2.8000000e-01, -2.7000000e-01, -2.6000000e-01, -2.5000000e-01,\n",
                            "       -2.4000000e-01, -2.3000000e-01, -2.2000000e-01, -2.1000000e-01,\n",
                            "       -2.0000000e-01, -1.9000000e-01, -1.8000000e-01, -1.7000000e-01,\n",
                            "       -1.6000000e-01, -1.5000000e-01, -1.4000000e-01, -1.3000000e-01,\n",
                            "       -1.2000000e-01, -1.1000000e-01, -1.0000000e-01, -9.0000000e-02,\n",
                            "       -8.0000000e-02, -7.0000000e-02, -6.0000000e-02, -5.0000000e-02,\n",
                            "       -4.0000000e-02, -3.0000000e-02, -2.0000000e-02, -1.0000000e-02,\n",
                            "       -1.0658141e-13,  1.0000000e-02,  2.0000000e-02,  3.0000000e-02,\n",
                            "        4.0000000e-02,  5.0000000e-02,  6.0000000e-02,  7.0000000e-02,\n",
                            "        8.0000000e-02,  9.0000000e-02,  1.0000000e-01,  1.1000000e-01,\n",
                            "        1.2000000e-01,  1.3000000e-01,  1.4000000e-01,  1.5000000e-01,\n",
                            "        1.6000000e-01,  1.7000000e-01,  1.8000000e-01,  1.9000000e-01,\n",
                            "        2.0000000e-01,  2.1000000e-01,  2.2000000e-01,  2.3000000e-01,\n",
                            "        2.4000000e-01,  2.5000000e-01,  2.6000000e-01,  2.7000000e-01,\n",
                            "        2.8000000e-01,  2.9000000e-01,  3.0000000e-01,  3.1000000e-01,\n",
                            "        3.2000000e-01,  3.3000000e-01,  3.4000000e-01,  3.5000000e-01,\n",
                            "        3.6000000e-01,  3.7000000e-01,  3.8000000e-01,  3.9000000e-01,\n",
                            "        4.0000000e-01,  4.1000000e-01,  4.2000000e-01,  4.3000000e-01,\n",
                            "        4.4000000e-01,  4.5000000e-01,  4.6000000e-01,  4.7000000e-01,\n",
                            "        4.8000000e-01,  4.9000000e-01,  5.0000000e-01,  5.1000000e-01,\n",
                            "        5.2000000e-01,  5.3000000e-01,  5.4000000e-01,  5.5000000e-01,\n",
                            "        5.6000000e-01,  5.7000000e-01,  5.8000000e-01,  5.9000000e-01,\n",
                            "        6.0000000e-01,  6.1000000e-01,  6.2000000e-01,  6.3000000e-01,\n",
                            "        6.4000000e-01,  6.5000000e-01,  6.6000000e-01,  6.7000000e-01,\n",
                            "        6.8000000e-01,  6.9000000e-01,  7.0000000e-01,  7.1000000e-01,\n",
                            "        7.2000000e-01,  7.3000000e-01,  7.4000000e-01,  7.5000000e-01,\n",
                            "        7.6000000e-01,  7.7000000e-01,  7.8000000e-01,  7.9000000e-01,\n",
                            "        8.0000000e-01,  8.1000000e-01,  8.2000000e-01,  8.3000000e-01,\n",
                            "        8.4000000e-01,  8.5000000e-01,  8.6000000e-01,  8.7000000e-01,\n",
                            "        8.8000000e-01,  8.9000000e-01,  9.0000000e-01,  9.1000000e-01,\n",
                            "        9.2000000e-01,  9.3000000e-01,  9.4000000e-01,  9.5000000e-01,\n",
                            "        9.6000000e-01,  9.7000000e-01,  9.8000000e-01,  9.9000000e-01,\n",
                            "        1.0000000e+00,  1.0100000e+00,  1.0200000e+00,  1.0300000e+00,\n",
                            "        1.0400000e+00,  1.0500000e+00,  1.0600000e+00,  1.0700000e+00,\n",
                            "        1.0800000e+00,  1.0900000e+00,  1.1000000e+00,  1.1100000e+00,\n",
                            "        1.1200000e+00,  1.1300000e+00,  1.1400000e+00,  1.1500000e+00,\n",
                            "        1.1600000e+00,  1.1700000e+00,  1.1800000e+00,  1.1900000e+00,\n",
                            "        1.2000000e+00,  1.2100000e+00,  1.2200000e+00,  1.2300000e+00,\n",
                            "        1.2400000e+00,  1.2500000e+00,  1.2600000e+00,  1.2700000e+00,\n",
                            "        1.2800000e+00,  1.2900000e+00,  1.3000000e+00,  1.3100000e+00,\n",
                            "        1.3200000e+00,  1.3300000e+00,  1.3400000e+00,  1.3500000e+00,\n",
                            "        1.3600000e+00,  1.3700000e+00,  1.3800000e+00,  1.3900000e+00,\n",
                            "        1.4000000e+00,  1.4100000e+00,  1.4200000e+00,  1.4300000e+00,\n",
                            "        1.4400000e+00,  1.4500000e+00,  1.4600000e+00,  1.4700000e+00,\n",
                            "        1.4800000e+00,  1.4900000e+00,  1.5000000e+00,  1.5100000e+00,\n",
                            "        1.5200000e+00,  1.5300000e+00,  1.5400000e+00,  1.5500000e+00,\n",
                            "        1.5600000e+00,  1.5700000e+00,  1.5800000e+00,  1.5900000e+00,\n",
                            "        1.6000000e+00,  1.6100000e+00,  1.6200000e+00,  1.6300000e+00,\n",
                            "        1.6400000e+00,  1.6500000e+00,  1.6600000e+00,  1.6700000e+00,\n",
                            "        1.6800000e+00,  1.6900000e+00,  1.7000000e+00,  1.7100000e+00,\n",
                            "        1.7200000e+00,  1.7300000e+00,  1.7400000e+00,  1.7500000e+00,\n",
                            "        1.7600000e+00,  1.7700000e+00,  1.7800000e+00,  1.7900000e+00,\n",
                            "        1.8000000e+00,  1.8100000e+00,  1.8200000e+00,  1.8300000e+00,\n",
                            "        1.8400000e+00,  1.8500000e+00,  1.8600000e+00,  1.8700000e+00,\n",
                            "        1.8800000e+00,  1.8900000e+00,  1.9000000e+00,  1.9100000e+00,\n",
                            "        1.9200000e+00,  1.9300000e+00,  1.9400000e+00,  1.9500000e+00,\n",
                            "        1.9600000e+00,  1.9700000e+00,  1.9800000e+00,  1.9900000e+00,\n",
                            "        2.0000000e+00,  2.0100000e+00,  2.0200000e+00,  2.0300000e+00,\n",
                            "        2.0400000e+00,  2.0500000e+00,  2.0600000e+00,  2.0700000e+00,\n",
                            "        2.0800000e+00,  2.0900000e+00,  2.1000000e+00,  2.1100000e+00,\n",
                            "        2.1200000e+00,  2.1300000e+00,  2.1400000e+00,  2.1500000e+00,\n",
                            "        2.1600000e+00,  2.1700000e+00,  2.1800000e+00,  2.1900000e+00,\n",
                            "        2.2000000e+00,  2.2100000e+00,  2.2200000e+00,  2.2300000e+00,\n",
                            "        2.2400000e+00,  2.2500000e+00,  2.2600000e+00,  2.2700000e+00,\n",
                            "        2.2800000e+00,  2.2900000e+00,  2.3000000e+00,  2.3100000e+00,\n",
                            "        2.3200000e+00,  2.3300000e+00,  2.3400000e+00,  2.3500000e+00,\n",
                            "        2.3600000e+00,  2.3700000e+00,  2.3800000e+00,  2.3900000e+00,\n",
                            "        2.4000000e+00,  2.4100000e+00,  2.4200000e+00,  2.4300000e+00,\n",
                            "        2.4400000e+00,  2.4500000e+00,  2.4600000e+00,  2.4700000e+00,\n",
                            "        2.4800000e+00,  2.4900000e+00,  2.5000000e+00,  2.5100000e+00,\n",
                            "        2.5200000e+00,  2.5300000e+00,  2.5400000e+00,  2.5500000e+00,\n",
                            "        2.5600000e+00,  2.5700000e+00,  2.5800000e+00,  2.5900000e+00,\n",
                            "        2.6000000e+00,  2.6100000e+00,  2.6200000e+00,  2.6300000e+00,\n",
                            "        2.6400000e+00,  2.6500000e+00,  2.6600000e+00,  2.6700000e+00,\n",
                            "        2.6800000e+00,  2.6900000e+00,  2.7000000e+00,  2.7100000e+00,\n",
                            "        2.7200000e+00,  2.7300000e+00,  2.7400000e+00,  2.7500000e+00,\n",
                            "        2.7600000e+00,  2.7700000e+00,  2.7800000e+00,  2.7900000e+00,\n",
                            "        2.8000000e+00,  2.8100000e+00,  2.8200000e+00,  2.8300000e+00,\n",
                            "        2.8400000e+00,  2.8500000e+00,  2.8600000e+00,  2.8700000e+00,\n",
                            "        2.8800000e+00,  2.8900000e+00,  2.9000000e+00,  2.9100000e+00,\n",
                            "        2.9200000e+00,  2.9300000e+00,  2.9400000e+00,  2.9500000e+00,\n",
                            "        2.9600000e+00,  2.9700000e+00,  2.9800000e+00,  2.9900000e+00,\n",
                            "        3.0000000e+00,  3.0100000e+00,  3.0200000e+00,  3.0300000e+00,\n",
                            "        3.0400000e+00,  3.0500000e+00,  3.0600000e+00,  3.0700000e+00,\n",
                            "        3.0800000e+00,  3.0900000e+00,  3.1000000e+00,  3.1100000e+00,\n",
                            "        3.1200000e+00,  3.1300000e+00,  3.1400000e+00,  3.1500000e+00,\n",
                            "        3.1600000e+00,  3.1700000e+00,  3.1800000e+00,  3.1900000e+00,\n",
                            "        3.2000000e+00,  3.2100000e+00,  3.2200000e+00,  3.2300000e+00,\n",
                            "        3.2400000e+00,  3.2500000e+00,  3.2600000e+00,  3.2700000e+00,\n",
                            "        3.2800000e+00,  3.2900000e+00,  3.3000000e+00,  3.3100000e+00,\n",
                            "        3.3200000e+00,  3.3300000e+00,  3.3400000e+00,  3.3500000e+00,\n",
                            "        3.3600000e+00,  3.3700000e+00,  3.3800000e+00,  3.3900000e+00,\n",
                            "        3.4000000e+00,  3.4100000e+00,  3.4200000e+00,  3.4300000e+00,\n",
                            "        3.4400000e+00,  3.4500000e+00,  3.4600000e+00,  3.4700000e+00,\n",
                            "        3.4800000e+00,  3.4900000e+00,  3.5000000e+00,  3.5100000e+00,\n",
                            "        3.5200000e+00,  3.5300000e+00,  3.5400000e+00,  3.5500000e+00,\n",
                            "        3.5600000e+00,  3.5700000e+00,  3.5800000e+00,  3.5900000e+00,\n",
                            "        3.6000000e+00,  3.6100000e+00,  3.6200000e+00,  3.6300000e+00,\n",
                            "        3.6400000e+00,  3.6500000e+00,  3.6600000e+00,  3.6700000e+00,\n",
                            "        3.6800000e+00,  3.6900000e+00,  3.7000000e+00,  3.7100000e+00,\n",
                            "        3.7200000e+00,  3.7300000e+00,  3.7400000e+00,  3.7500000e+00,\n",
                            "        3.7600000e+00,  3.7700000e+00,  3.7800000e+00,  3.7900000e+00,\n",
                            "        3.8000000e+00,  3.8100000e+00,  3.8200000e+00,  3.8300000e+00,\n",
                            "        3.8400000e+00,  3.8500000e+00,  3.8600000e+00,  3.8700000e+00,\n",
                            "        3.8800000e+00,  3.8900000e+00,  3.9000000e+00,  3.9100000e+00,\n",
                            "        3.9200000e+00,  3.9300000e+00,  3.9400000e+00,  3.9500000e+00,\n",
                            "        3.9600000e+00,  3.9700000e+00,  3.9800000e+00,  3.9900000e+00,\n",
                            "        4.0000000e+00,  4.0100000e+00,  4.0200000e+00,  4.0300000e+00,\n",
                            "        4.0400000e+00,  4.0500000e+00,  4.0600000e+00,  4.0700000e+00,\n",
                            "        4.0800000e+00,  4.0900000e+00,  4.1000000e+00,  4.1100000e+00,\n",
                            "        4.1200000e+00,  4.1300000e+00,  4.1400000e+00,  4.1500000e+00,\n",
                            "        4.1600000e+00,  4.1700000e+00,  4.1800000e+00,  4.1900000e+00,\n",
                            "        4.2000000e+00,  4.2100000e+00,  4.2200000e+00,  4.2300000e+00,\n",
                            "        4.2400000e+00,  4.2500000e+00,  4.2600000e+00,  4.2700000e+00,\n",
                            "        4.2800000e+00,  4.2900000e+00,  4.3000000e+00,  4.3100000e+00,\n",
                            "        4.3200000e+00,  4.3300000e+00,  4.3400000e+00,  4.3500000e+00,\n",
                            "        4.3600000e+00,  4.3700000e+00,  4.3800000e+00,  4.3900000e+00,\n",
                            "        4.4000000e+00,  4.4100000e+00,  4.4200000e+00,  4.4300000e+00,\n",
                            "        4.4400000e+00,  4.4500000e+00,  4.4600000e+00,  4.4700000e+00,\n",
                            "        4.4800000e+00,  4.4900000e+00,  4.5000000e+00,  4.5100000e+00,\n",
                            "        4.5200000e+00,  4.5300000e+00,  4.5400000e+00,  4.5500000e+00,\n",
                            "        4.5600000e+00,  4.5700000e+00,  4.5800000e+00,  4.5900000e+00,\n",
                            "        4.6000000e+00,  4.6100000e+00,  4.6200000e+00,  4.6300000e+00,\n",
                            "        4.6400000e+00,  4.6500000e+00,  4.6600000e+00,  4.6700000e+00,\n",
                            "        4.6800000e+00,  4.6900000e+00,  4.7000000e+00,  4.7100000e+00,\n",
                            "        4.7200000e+00,  4.7300000e+00,  4.7400000e+00,  4.7500000e+00,\n",
                            "        4.7600000e+00,  4.7700000e+00,  4.7800000e+00,  4.7900000e+00,\n",
                            "        4.8000000e+00,  4.8100000e+00,  4.8200000e+00,  4.8300000e+00,\n",
                            "        4.8400000e+00,  4.8500000e+00,  4.8600000e+00,  4.8700000e+00,\n",
                            "        4.8800000e+00,  4.8900000e+00,  4.9000000e+00,  4.9100000e+00,\n",
                            "        4.9200000e+00,  4.9300000e+00,  4.9400000e+00,  4.9500000e+00,\n",
                            "        4.9600000e+00,  4.9700000e+00,  4.9800000e+00,  4.9900000e+00])"
                        ]
                    },
                    "execution_count": 89,
                    "metadata": {},
                    "output_type": "execute_result"
                }
            ],
            "source": [
                "points"
            ]
        },
        {
            "cell_type": "code",
            "execution_count": 90,
            "metadata": {},
            "outputs": [],
            "source": [
                "xs, ys = np.meshgrid(points, points)"
            ]
        },
        {
            "cell_type": "code",
            "execution_count": 91,
            "metadata": {},
            "outputs": [
                {
                    "data": {
                        "text/plain": [
                            "array([[-5.  , -5.  , -5.  , ..., -5.  , -5.  , -5.  ],\n",
                            "       [-4.99, -4.99, -4.99, ..., -4.99, -4.99, -4.99],\n",
                            "       [-4.98, -4.98, -4.98, ..., -4.98, -4.98, -4.98],\n",
                            "       ...,\n",
                            "       [ 4.97,  4.97,  4.97, ...,  4.97,  4.97,  4.97],\n",
                            "       [ 4.98,  4.98,  4.98, ...,  4.98,  4.98,  4.98],\n",
                            "       [ 4.99,  4.99,  4.99, ...,  4.99,  4.99,  4.99]])"
                        ]
                    },
                    "execution_count": 91,
                    "metadata": {},
                    "output_type": "execute_result"
                }
            ],
            "source": [
                "ys"
            ]
        },
        {
            "cell_type": "code",
            "execution_count": 92,
            "metadata": {},
            "outputs": [],
            "source": [
                "z = np.sqrt(xs ** 2 + ys ** 2)"
            ]
        },
        {
            "cell_type": "code",
            "execution_count": 93,
            "metadata": {},
            "outputs": [
                {
                    "data": {
                        "text/plain": [
                            "array([[7.07106781, 7.06400028, 7.05693985, ..., 7.04988652, 7.05693985,\n",
                            "        7.06400028],\n",
                            "       [7.06400028, 7.05692568, 7.04985815, ..., 7.04279774, 7.04985815,\n",
                            "        7.05692568],\n",
                            "       [7.05693985, 7.04985815, 7.04278354, ..., 7.03571603, 7.04278354,\n",
                            "        7.04985815],\n",
                            "       ...,\n",
                            "       [7.04988652, 7.04279774, 7.03571603, ..., 7.0286414 , 7.03571603,\n",
                            "        7.04279774],\n",
                            "       [7.05693985, 7.04985815, 7.04278354, ..., 7.03571603, 7.04278354,\n",
                            "        7.04985815],\n",
                            "       [7.06400028, 7.05692568, 7.04985815, ..., 7.04279774, 7.04985815,\n",
                            "        7.05692568]])"
                        ]
                    },
                    "execution_count": 93,
                    "metadata": {},
                    "output_type": "execute_result"
                }
            ],
            "source": [
                "z"
            ]
        },
        {
            "cell_type": "code",
            "execution_count": 94,
            "metadata": {},
            "outputs": [],
            "source": [
                "import matplotlib.pyplot as plt"
            ]
        },
        {
            "cell_type": "code",
            "execution_count": 97,
            "metadata": {},
            "outputs": [
                {
                    "data": {
                        "text/plain": [
                            "Text(0.5, 1.0, 'Image plot of $\\\\sqrt{x^2 + y^2}$ for a grid of values')"
                        ]
                    },
                    "execution_count": 97,
                    "metadata": {},
                    "output_type": "execute_result"
                },
                {
                    "data": {
                        "image/png": "[encoded data removed]",
                        "text/plain": [
                            "<Figure size 432x288 with 2 Axes>"
                        ]
                    },
                    "metadata": {
                        "needs_background": "light"
                    },
                    "output_type": "display_data"
                }
            ],
            "source": [
                "plt.imshow(z, cmap=plt.cm.gray); plt.colorbar()\n",
                "plt.title(\"Image plot of $\\sqrt{x^2 + y^2}$ for a grid of values\")"
            ]
        },
        {
            "cell_type": "markdown",
            "metadata": {},
            "source": [
                "### Expressing Conditional Logic as Array Operations"
            ]
        },
        {
            "cell_type": "code",
            "execution_count": 98,
            "metadata": {},
            "outputs": [],
            "source": [
                "xarr = np.array([1.1, 1.2, 1.3, 1.4, 1.5])\n",
                "yarr = np.array([2.1, 2.2, 2.3, 2.4, 2.5])\n",
                "cond = np.array([True, False, True, True, False])"
            ]
        },
        {
            "cell_type": "code",
            "execution_count": 99,
            "metadata": {},
            "outputs": [],
            "source": [
                "result = [(x if c else y) for x, y, c in zip(xarr, yarr, cond)]"
            ]
        },
        {
            "cell_type": "code",
            "execution_count": 100,
            "metadata": {},
            "outputs": [
                {
                    "data": {
                        "text/plain": [
                            "[1.1, 2.2, 1.3, 1.4, 2.5]"
                        ]
                    },
                    "execution_count": 100,
                    "metadata": {},
                    "output_type": "execute_result"
                }
            ],
            "source": [
                "result"
            ]
        },
        {
            "cell_type": "code",
            "execution_count": 101,
            "metadata": {},
            "outputs": [],
            "source": [
                "result = np.where(cond, xarr, yarr)"
            ]
        },
        {
            "cell_type": "code",
            "execution_count": 102,
            "metadata": {},
            "outputs": [
                {
                    "data": {
                        "text/plain": [
                            "array([1.1, 2.2, 1.3, 1.4, 2.5])"
                        ]
                    },
                    "execution_count": 102,
                    "metadata": {},
                    "output_type": "execute_result"
                }
            ],
            "source": [
                "result"
            ]
        },
        {
            "cell_type": "code",
            "execution_count": 103,
            "metadata": {},
            "outputs": [],
            "source": [
                "arr = np.random.randn(4, 4)"
            ]
        },
        {
            "cell_type": "code",
            "execution_count": 104,
            "metadata": {},
            "outputs": [
                {
                    "data": {
                        "text/plain": [
                            "array([[ 1.23684464, -0.56907497, -1.55643158,  1.87073848],\n",
                            "       [-0.57725094,  0.37161364,  2.2940869 , -0.46457584],\n",
                            "       [-1.38839013,  0.12033176,  0.59073128,  0.20465445],\n",
                            "       [ 0.13965356, -0.46115343,  0.4917227 ,  0.42802245]])"
                        ]
                    },
                    "execution_count": 104,
                    "metadata": {},
                    "output_type": "execute_result"
                }
            ],
            "source": [
                "arr"
            ]
        },
        {
            "cell_type": "code",
            "execution_count": 105,
            "metadata": {},
            "outputs": [
                {
                    "data": {
                        "text/plain": [
                            "array([[ True, False, False,  True],\n",
                            "       [False,  True,  True, False],\n",
                            "       [False,  True,  True,  True],\n",
                            "       [ True, False,  True,  True]])"
                        ]
                    },
                    "execution_count": 105,
                    "metadata": {},
                    "output_type": "execute_result"
                }
            ],
            "source": [
                "arr > 0"
            ]
        },
        {
            "cell_type": "code",
            "execution_count": 106,
            "metadata": {},
            "outputs": [
                {
                    "data": {
                        "text/plain": [
                            "array([[ 2, -2, -2,  2],\n",
                            "       [-2,  2,  2, -2],\n",
                            "       [-2,  2,  2,  2],\n",
                            "       [ 2, -2,  2,  2]])"
                        ]
                    },
                    "execution_count": 106,
                    "metadata": {},
                    "output_type": "execute_result"
                }
            ],
            "source": [
                "np.where(arr > 0, 2, -2)"
            ]
        },
        {
            "cell_type": "code",
            "execution_count": 107,
            "metadata": {},
            "outputs": [
                {
                    "data": {
                        "text/plain": [
                            "array([[ 2.        , -0.56907497, -1.55643158,  2.        ],\n",
                            "       [-0.57725094,  2.        ,  2.        , -0.46457584],\n",
                            "       [-1.38839013,  2.        ,  2.        ,  2.        ],\n",
                            "       [ 2.        , -0.46115343,  2.        ,  2.        ]])"
                        ]
                    },
                    "execution_count": 107,
                    "metadata": {},
                    "output_type": "execute_result"
                }
            ],
            "source": [
                "np.where(arr > 0, 2, arr)"
            ]
        },
        {
            "cell_type": "markdown",
            "metadata": {},
            "source": [
                "### Mathematical and Statistical Methods"
            ]
        },
        {
            "cell_type": "code",
            "execution_count": 108,
            "metadata": {},
            "outputs": [],
            "source": [
                "arr = np.random.randn(5, 4)"
            ]
        },
        {
            "cell_type": "code",
            "execution_count": 109,
            "metadata": {},
            "outputs": [
                {
                    "data": {
                        "text/plain": [
                            "array([[-1.97861236,  1.41953089,  0.43555566,  0.68292188],\n",
                            "       [ 0.14713123,  0.30941209, -1.92287436,  1.78726487],\n",
                            "       [-1.04261079,  0.73438724,  0.41571683,  0.95367213],\n",
                            "       [ 1.85120764, -0.26029418, -0.95177566, -1.33742578],\n",
                            "       [ 1.1256563 ,  1.47829561,  1.84647322, -0.60769907]])"
                        ]
                    },
                    "execution_count": 109,
                    "metadata": {},
                    "output_type": "execute_result"
                }
            ],
            "source": [
                "arr"
            ]
        },
        {
            "cell_type": "code",
            "execution_count": 110,
            "metadata": {},
            "outputs": [
                {
                    "data": {
                        "text/plain": [
                            "0.2542966711110662"
                        ]
                    },
                    "execution_count": 110,
                    "metadata": {},
                    "output_type": "execute_result"
                }
            ],
            "source": [
                "arr.mean()"
            ]
        },
        {
            "cell_type": "code",
            "execution_count": 111,
            "metadata": {},
            "outputs": [
                {
                    "data": {
                        "text/plain": [
                            "0.2542966711110662"
                        ]
                    },
                    "execution_count": 111,
                    "metadata": {},
                    "output_type": "execute_result"
                }
            ],
            "source": [
                "np.mean(arr)"
            ]
        },
        {
            "cell_type": "code",
            "execution_count": 112,
            "metadata": {},
            "outputs": [
                {
                    "data": {
                        "text/plain": [
                            "5.0859334222213235"
                        ]
                    },
                    "execution_count": 112,
                    "metadata": {},
                    "output_type": "execute_result"
                }
            ],
            "source": [
                "arr.sum()"
            ]
        },
        {
            "cell_type": "code",
            "execution_count": 113,
            "metadata": {},
            "outputs": [
                {
                    "data": {
                        "text/plain": [
                            "5.0859334222213235"
                        ]
                    },
                    "execution_count": 113,
                    "metadata": {},
                    "output_type": "execute_result"
                }
            ],
            "source": [
                "np.sum(arr)"
            ]
        },
        {
            "cell_type": "code",
            "execution_count": 114,
            "metadata": {},
            "outputs": [
                {
                    "data": {
                        "text/plain": [
                            "array([ 0.13984902,  0.08023346,  0.26529135, -0.17457199,  0.96068152])"
                        ]
                    },
                    "execution_count": 114,
                    "metadata": {},
                    "output_type": "execute_result"
                }
            ],
            "source": [
                "arr.mean(axis=1)"
            ]
        },
        {
            "cell_type": "code",
            "execution_count": 115,
            "metadata": {},
            "outputs": [
                {
                    "data": {
                        "text/plain": [
                            "array([[-1.97861236,  1.41953089,  0.43555566,  0.68292188],\n",
                            "       [ 0.14713123,  0.30941209, -1.92287436,  1.78726487],\n",
                            "       [-1.04261079,  0.73438724,  0.41571683,  0.95367213],\n",
                            "       [ 1.85120764, -0.26029418, -0.95177566, -1.33742578],\n",
                            "       [ 1.1256563 ,  1.47829561,  1.84647322, -0.60769907]])"
                        ]
                    },
                    "execution_count": 115,
                    "metadata": {},
                    "output_type": "execute_result"
                }
            ],
            "source": [
                "arr"
            ]
        },
        {
            "cell_type": "code",
            "execution_count": 117,
            "metadata": {},
            "outputs": [
                {
                    "data": {
                        "text/plain": [
                            "array([ 0.10277203,  3.68133165, -0.1769043 ,  1.47873404])"
                        ]
                    },
                    "execution_count": 117,
                    "metadata": {},
                    "output_type": "execute_result"
                }
            ],
            "source": [
                "arr.sum(axis=0)"
            ]
        },
        {
            "cell_type": "code",
            "execution_count": 118,
            "metadata": {},
            "outputs": [],
            "source": [
                "arr = np.array([0, 1, 2, 3, 4, 5, 6, 7])"
            ]
        },
        {
            "cell_type": "code",
            "execution_count": 119,
            "metadata": {},
            "outputs": [
                {
                    "data": {
                        "text/plain": [
                            "array([ 0,  1,  3,  6, 10, 15, 21, 28], dtype=int32)"
                        ]
                    },
                    "execution_count": 119,
                    "metadata": {},
                    "output_type": "execute_result"
                }
            ],
            "source": [
                "arr.cumsum()"
            ]
        },
        {
            "cell_type": "code",
            "execution_count": 120,
            "metadata": {},
            "outputs": [],
            "source": [
                "arr = np.array([[0, 1, 2], [3, 4, 5], [6, 7, 8]])"
            ]
        },
        {
            "cell_type": "code",
            "execution_count": 121,
            "metadata": {},
            "outputs": [
                {
                    "data": {
                        "text/plain": [
                            "array([[0, 1, 2],\n",
                            "       [3, 4, 5],\n",
                            "       [6, 7, 8]])"
                        ]
                    },
                    "execution_count": 121,
                    "metadata": {},
                    "output_type": "execute_result"
                }
            ],
            "source": [
                "arr"
            ]
        },
        {
            "cell_type": "code",
            "execution_count": 122,
            "metadata": {},
            "outputs": [
                {
                    "data": {
                        "text/plain": [
                            "array([[ 0,  1,  2],\n",
                            "       [ 3,  5,  7],\n",
                            "       [ 9, 12, 15]], dtype=int32)"
                        ]
                    },
                    "execution_count": 122,
                    "metadata": {},
                    "output_type": "execute_result"
                }
            ],
            "source": [
                "arr.cumsum(axis=0)"
            ]
        },
        {
            "cell_type": "code",
            "execution_count": 123,
            "metadata": {},
            "outputs": [
                {
                    "data": {
                        "text/plain": [
                            "array([[  0,   0,   0],\n",
                            "       [  3,  12,  60],\n",
                            "       [  6,  42, 336]], dtype=int32)"
                        ]
                    },
                    "execution_count": 123,
                    "metadata": {},
                    "output_type": "execute_result"
                }
            ],
            "source": [
                "arr.cumprod(axis=1)"
            ]
        },
        {
            "cell_type": "markdown",
            "metadata": {},
            "source": [
                "### Methods for Boolean Arrays"
            ]
        },
        {
            "cell_type": "code",
            "execution_count": 124,
            "metadata": {},
            "outputs": [],
            "source": [
                "arr = np.random.randn(100)"
            ]
        },
        {
            "cell_type": "code",
            "execution_count": 125,
            "metadata": {},
            "outputs": [
                {
                    "data": {
                        "text/plain": [
                            "55"
                        ]
                    },
                    "execution_count": 125,
                    "metadata": {},
                    "output_type": "execute_result"
                }
            ],
            "source": [
                "(arr > 0).sum()"
            ]
        },
        {
            "cell_type": "code",
            "execution_count": 126,
            "metadata": {},
            "outputs": [],
            "source": [
                "bools = np.array([False, False, True, False])"
            ]
        },
        {
            "cell_type": "code",
            "execution_count": 127,
            "metadata": {},
            "outputs": [
                {
                    "data": {
                        "text/plain": [
                            "array([False, False,  True, False])"
                        ]
                    },
                    "execution_count": 127,
                    "metadata": {},
                    "output_type": "execute_result"
                }
            ],
            "source": [
                "bools"
            ]
        },
        {
            "cell_type": "code",
            "execution_count": 128,
            "metadata": {},
            "outputs": [
                {
                    "data": {
                        "text/plain": [
                            "True"
                        ]
                    },
                    "execution_count": 128,
                    "metadata": {},
                    "output_type": "execute_result"
                }
            ],
            "source": [
                "bools.any()"
            ]
        },
        {
            "cell_type": "code",
            "execution_count": 129,
            "metadata": {},
            "outputs": [
                {
                    "data": {
                        "text/plain": [
                            "False"
                        ]
                    },
                    "execution_count": 129,
                    "metadata": {},
                    "output_type": "execute_result"
                }
            ],
            "source": [
                "bools.all()"
            ]
        },
        {
            "cell_type": "markdown",
            "metadata": {},
            "source": [
                "### Sorting"
            ]
        },
        {
            "cell_type": "code",
            "execution_count": 130,
            "metadata": {},
            "outputs": [],
            "source": [
                "arr = np.random.randn(6)"
            ]
        },
        {
            "cell_type": "code",
            "execution_count": 131,
            "metadata": {},
            "outputs": [
                {
                    "data": {
                        "text/plain": [
                            "array([-0.89619653,  0.09908088, -0.02133746,  1.23430989, -0.49243039,\n",
                            "       -0.73278147])"
                        ]
                    },
                    "execution_count": 131,
                    "metadata": {},
                    "output_type": "execute_result"
                }
            ],
            "source": [
                "arr"
            ]
        },
        {
            "cell_type": "code",
            "execution_count": 132,
            "metadata": {},
            "outputs": [],
            "source": [
                "arr.sort()"
            ]
        },
        {
            "cell_type": "code",
            "execution_count": 133,
            "metadata": {},
            "outputs": [
                {
                    "data": {
                        "text/plain": [
                            "array([-0.89619653, -0.73278147, -0.49243039, -0.02133746,  0.09908088,\n",
                            "        1.23430989])"
                        ]
                    },
                    "execution_count": 133,
                    "metadata": {},
                    "output_type": "execute_result"
                }
            ],
            "source": [
                "arr"
            ]
        },
        {
            "cell_type": "code",
            "execution_count": 134,
            "metadata": {},
            "outputs": [],
            "source": [
                "arr = np.random.randn(5, 3)"
            ]
        },
        {
            "cell_type": "code",
            "execution_count": 135,
            "metadata": {},
            "outputs": [
                {
                    "data": {
                        "text/plain": [
                            "array([[-0.9735753 , -2.22781491,  0.8980684 ],\n",
                            "       [-1.79165058,  1.88337209,  0.80506604],\n",
                            "       [-1.53610939, -0.96911821,  0.70471442],\n",
                            "       [-0.7413868 ,  0.12176857, -1.07963954],\n",
                            "       [ 0.84543387,  2.28733385, -0.50110419]])"
                        ]
                    },
                    "execution_count": 135,
                    "metadata": {},
                    "output_type": "execute_result"
                }
            ],
            "source": [
                "arr"
            ]
        },
        {
            "cell_type": "code",
            "execution_count": 136,
            "metadata": {},
            "outputs": [],
            "source": [
                "arr.sort(1)"
            ]
        },
        {
            "cell_type": "code",
            "execution_count": 137,
            "metadata": {},
            "outputs": [
                {
                    "data": {
                        "text/plain": [
                            "array([[-2.22781491, -0.9735753 ,  0.8980684 ],\n",
                            "       [-1.79165058,  0.80506604,  1.88337209],\n",
                            "       [-1.53610939, -0.96911821,  0.70471442],\n",
                            "       [-1.07963954, -0.7413868 ,  0.12176857],\n",
                            "       [-0.50110419,  0.84543387,  2.28733385]])"
                        ]
                    },
                    "execution_count": 137,
                    "metadata": {},
                    "output_type": "execute_result"
                }
            ],
            "source": [
                "arr"
            ]
        },
        {
            "cell_type": "code",
            "execution_count": 138,
            "metadata": {},
            "outputs": [],
            "source": [
                "large_arr = np.random.randn(1000)"
            ]
        },
        {
            "cell_type": "code",
            "execution_count": 139,
            "metadata": {},
            "outputs": [],
            "source": [
                "large_arr.sort()"
            ]
        },
        {
            "cell_type": "code",
            "execution_count": 140,
            "metadata": {},
            "outputs": [
                {
                    "data": {
                        "text/plain": [
                            "-1.656247291195941"
                        ]
                    },
                    "execution_count": 140,
                    "metadata": {},
                    "output_type": "execute_result"
                }
            ],
            "source": [
                "large_arr[int(0.05 * len(large_arr))]"
            ]
        },
        {
            "cell_type": "markdown",
            "metadata": {},
            "source": [
                "### Unique and Other Set Logic"
            ]
        },
        {
            "cell_type": "code",
            "execution_count": 141,
            "metadata": {},
            "outputs": [],
            "source": [
                "names = np.array(['Bob', 'Joe', 'Will', 'Bob', 'Will', 'Joe', 'Joe'])"
            ]
        },
        {
            "cell_type": "code",
            "execution_count": 142,
            "metadata": {},
            "outputs": [
                {
                    "data": {
                        "text/plain": [
                            "array(['Bob', 'Joe', 'Will'], dtype='<U4')"
                        ]
                    },
                    "execution_count": 142,
                    "metadata": {},
                    "output_type": "execute_result"
                }
            ],
            "source": [
                "np.unique(names)"
            ]
        },
        {
            "cell_type": "code",
            "execution_count": 143,
            "metadata": {},
            "outputs": [],
            "source": [
                "ints = np.array([3, 3, 3, 2, 2, 1, 1, 4, 4])"
            ]
        },
        {
            "cell_type": "code",
            "execution_count": 144,
            "metadata": {},
            "outputs": [
                {
                    "data": {
                        "text/plain": [
                            "array([1, 2, 3, 4])"
                        ]
                    },
                    "execution_count": 144,
                    "metadata": {},
                    "output_type": "execute_result"
                }
            ],
            "source": [
                "np.unique(ints)"
            ]
        },
        {
            "cell_type": "code",
            "execution_count": 145,
            "metadata": {},
            "outputs": [
                {
                    "data": {
                        "text/plain": [
                            "['Bob', 'Joe', 'Will']"
                        ]
                    },
                    "execution_count": 145,
                    "metadata": {},
                    "output_type": "execute_result"
                }
            ],
            "source": [
                "sorted(set(names))"
            ]
        },
        {
            "cell_type": "code",
            "execution_count": 146,
            "metadata": {},
            "outputs": [],
            "source": [
                "values = np.array([6, 0, 0, 3, 2, 5, 6])"
            ]
        },
        {
            "cell_type": "code",
            "execution_count": 147,
            "metadata": {},
            "outputs": [
                {
                    "data": {
                        "text/plain": [
                            "array([ True, False, False,  True,  True, False,  True])"
                        ]
                    },
                    "execution_count": 147,
                    "metadata": {},
                    "output_type": "execute_result"
                }
            ],
            "source": [
                "np.in1d(values, [2, 3, 6])"
            ]
        },
        {
            "cell_type": "markdown",
            "metadata": {},
            "source": [
                "\n",
                "## 4.4 File Input and Output with Arrays"
            ]
        },
        {
            "cell_type": "code",
            "execution_count": 148,
            "metadata": {},
            "outputs": [],
            "source": [
                "arr = np.arange(10)"
            ]
        },
        {
            "cell_type": "code",
            "execution_count": 149,
            "metadata": {},
            "outputs": [],
            "source": [
                "np.save('some_array', arr)"
            ]
        },
        {
            "cell_type": "code",
            "execution_count": 150,
            "metadata": {},
            "outputs": [
                {
                    "data": {
                        "text/plain": [
                            "array([0, 1, 2, 3, 4, 5, 6, 7, 8, 9])"
                        ]
                    },
                    "execution_count": 150,
                    "metadata": {},
                    "output_type": "execute_result"
                }
            ],
            "source": [
                "np.load('some_array.npy')"
            ]
        },
        {
            "cell_type": "code",
            "execution_count": 151,
            "metadata": {},
            "outputs": [],
            "source": [
                "np.savez('array_archive.npz', a=arr, b=arr)"
            ]
        },
        {
            "cell_type": "code",
            "execution_count": 152,
            "metadata": {},
            "outputs": [],
            "source": [
                "arch = np.load('array_archive.npz')"
            ]
        },
        {
            "cell_type": "code",
            "execution_count": 153,
            "metadata": {},
            "outputs": [
                {
                    "data": {
                        "text/plain": [
                            "array([0, 1, 2, 3, 4, 5, 6, 7, 8, 9])"
                        ]
                    },
                    "execution_count": 153,
                    "metadata": {},
                    "output_type": "execute_result"
                }
            ],
            "source": [
                "arch['b']"
            ]
        },
        {
            "cell_type": "code",
            "execution_count": 154,
            "metadata": {},
            "outputs": [],
            "source": [
                "np.savez_compressed('arrays_compressed.npz', a=arr, b=arr)"
            ]
        },
        {
            "cell_type": "markdown",
            "metadata": {},
            "source": [
                "## 4.5 Linear Algebra"
            ]
        },
        {
            "cell_type": "code",
            "execution_count": 155,
            "metadata": {},
            "outputs": [],
            "source": [
                "x = np.array([[1., 2., 3.], [4., 5., 6.]])"
            ]
        },
        {
            "cell_type": "code",
            "execution_count": 158,
            "metadata": {},
            "outputs": [],
            "source": [
                "y = np.array([[6., 23.], [-1, 7], [8, 9]])"
            ]
        },
        {
            "cell_type": "code",
            "execution_count": 159,
            "metadata": {},
            "outputs": [
                {
                    "data": {
                        "text/plain": [
                            "array([[1., 2., 3.],\n",
                            "       [4., 5., 6.]])"
                        ]
                    },
                    "execution_count": 159,
                    "metadata": {},
                    "output_type": "execute_result"
                }
            ],
            "source": [
                "x"
            ]
        },
        {
            "cell_type": "code",
            "execution_count": 160,
            "metadata": {},
            "outputs": [
                {
                    "data": {
                        "text/plain": [
                            "array([[ 6., 23.],\n",
                            "       [-1.,  7.],\n",
                            "       [ 8.,  9.]])"
                        ]
                    },
                    "execution_count": 160,
                    "metadata": {},
                    "output_type": "execute_result"
                }
            ],
            "source": [
                "y"
            ]
        },
        {
            "cell_type": "code",
            "execution_count": 161,
            "metadata": {},
            "outputs": [
                {
                    "data": {
                        "text/plain": [
                            "array([[ 28.,  64.],\n",
                            "       [ 67., 181.]])"
                        ]
                    },
                    "execution_count": 161,
                    "metadata": {},
                    "output_type": "execute_result"
                }
            ],
            "source": [
                "x.dot(y)"
            ]
        },
        {
            "cell_type": "code",
            "execution_count": 162,
            "metadata": {},
            "outputs": [
                {
                    "data": {
                        "text/plain": [
                            "array([[ 28.,  64.],\n",
                            "       [ 67., 181.]])"
                        ]
                    },
                    "execution_count": 162,
                    "metadata": {},
                    "output_type": "execute_result"
                }
            ],
            "source": [
                "np.dot(x, y)"
            ]
        },
        {
            "cell_type": "code",
            "execution_count": 163,
            "metadata": {},
            "outputs": [
                {
                    "data": {
                        "text/plain": [
                            "array([ 6., 15.])"
                        ]
                    },
                    "execution_count": 163,
                    "metadata": {},
                    "output_type": "execute_result"
                }
            ],
            "source": [
                "np.dot(x, np.ones(3))"
            ]
        },
        {
            "cell_type": "code",
            "execution_count": 164,
            "metadata": {},
            "outputs": [
                {
                    "data": {
                        "text/plain": [
                            "array([ 6., 15.])"
                        ]
                    },
                    "execution_count": 164,
                    "metadata": {},
                    "output_type": "execute_result"
                }
            ],
            "source": [
                "x @ np.ones(3)"
            ]
        },
        {
            "cell_type": "code",
            "execution_count": 165,
            "metadata": {},
            "outputs": [],
            "source": [
                "from numpy.linalg import inv, qr"
            ]
        },
        {
            "cell_type": "code",
            "execution_count": 166,
            "metadata": {},
            "outputs": [],
            "source": [
                "X = np.random.randn(5, 5)"
            ]
        },
        {
            "cell_type": "code",
            "execution_count": 167,
            "metadata": {},
            "outputs": [],
            "source": [
                "mat = X.T.dot(X)"
            ]
        },
        {
            "cell_type": "code",
            "execution_count": 168,
            "metadata": {},
            "outputs": [
                {
                    "data": {
                        "text/plain": [
                            "array([[ 0.22758975,  0.25454518,  0.48055786, -0.10912736,  0.33226234],\n",
                            "       [ 0.25454518,  7.00583235,  8.69859341, -0.13704986,  2.9347093 ],\n",
                            "       [ 0.48055786,  8.69859341, 11.68107898, -0.2686108 ,  4.1721438 ],\n",
                            "       [-0.10912736, -0.13704986, -0.2686108 ,  0.42410927,  0.01473995],\n",
                            "       [ 0.33226234,  2.9347093 ,  4.1721438 ,  0.01473995,  1.97473499]])"
                        ]
                    },
                    "execution_count": 168,
                    "metadata": {},
                    "output_type": "execute_result"
                }
            ],
            "source": [
                "inv(mat)"
            ]
        },
        {
            "cell_type": "code",
            "execution_count": 169,
            "metadata": {},
            "outputs": [
                {
                    "data": {
                        "text/plain": [
                            "array([[ 1.00000000e+00,  7.00020290e-16,  8.85298162e-16,\n",
                            "        -1.41263166e-18, -4.35033341e-16],\n",
                            "       [ 1.75787916e-17,  1.00000000e+00,  4.52973950e-15,\n",
                            "         2.23150833e-17,  9.69874119e-16],\n",
                            "       [-1.89280105e-17, -2.70889290e-15,  1.00000000e+00,\n",
                            "         9.23388535e-18, -1.64239801e-15],\n",
                            "       [ 4.85069262e-17,  4.09598379e-16,  8.59930194e-16,\n",
                            "         1.00000000e+00, -6.92943805e-16],\n",
                            "       [-3.11306742e-17,  6.00661391e-16, -1.48644001e-15,\n",
                            "         2.00770354e-18,  1.00000000e+00]])"
                        ]
                    },
                    "execution_count": 169,
                    "metadata": {},
                    "output_type": "execute_result"
                }
            ],
            "source": [
                "mat.dot(inv(mat))"
            ]
        },
        {
            "cell_type": "code",
            "execution_count": 170,
            "metadata": {},
            "outputs": [],
            "source": [
                "q, r= qr(mat)"
            ]
        },
        {
            "cell_type": "code",
            "execution_count": 171,
            "metadata": {},
            "outputs": [
                {
                    "data": {
                        "text/plain": [
                            "array([[-10.47815984,   0.35579143,  -1.89613763,  -4.67275213,\n",
                            "          5.45388188],\n",
                            "       [  0.        ,  -3.18971208,   3.31708844,   1.45426549,\n",
                            "         -2.39354126],\n",
                            "       [  0.        ,   0.        ,  -0.70304497,  -0.82195365,\n",
                            "          1.89345539],\n",
                            "       [  0.        ,   0.        ,   0.        ,  -2.20536325,\n",
                            "         -0.11190658],\n",
                            "       [  0.        ,   0.        ,   0.        ,   0.        ,\n",
                            "          0.1824845 ]])"
                        ]
                    },
                    "execution_count": 171,
                    "metadata": {},
                    "output_type": "execute_result"
                }
            ],
            "source": [
                "r"
            ]
        },
        {
            "cell_type": "markdown",
            "metadata": {},
            "source": [
                "## 4.6 Pseudorandom Number Generation"
            ]
        },
        {
            "cell_type": "code",
            "execution_count": 172,
            "metadata": {},
            "outputs": [],
            "source": [
                "samples = np.random.normal(size=(4, 4))"
            ]
        },
        {
            "cell_type": "code",
            "execution_count": 173,
            "metadata": {},
            "outputs": [
                {
                    "data": {
                        "text/plain": [
                            "array([[ 0.6042723 , -0.47536662,  1.52631904, -1.87091239],\n",
                            "       [ 0.57441378, -0.80356497, -0.31674565, -0.57624301],\n",
                            "       [-2.03128683, -1.13893812,  0.26543103,  0.89354739],\n",
                            "       [-0.47679361,  0.19067321, -0.01338798, -0.2937101 ]])"
                        ]
                    },
                    "execution_count": 173,
                    "metadata": {},
                    "output_type": "execute_result"
                }
            ],
            "source": [
                "samples"
            ]
        },
        {
            "cell_type": "code",
            "execution_count": 174,
            "metadata": {},
            "outputs": [],
            "source": [
                "from random import normalvariate"
            ]
        },
        {
            "cell_type": "code",
            "execution_count": 175,
            "metadata": {},
            "outputs": [],
            "source": [
                "N = 1000000"
            ]
        },
        {
            "cell_type": "code",
            "execution_count": 176,
            "metadata": {},
            "outputs": [
                {
                    "name": "stdout",
                    "output_type": "stream",
                    "text": [
                        "833 ms ± 17 ms per loop (mean ± std. dev. of 7 runs, 1 loop each)\n"
                    ]
                }
            ],
            "source": [
                "%timeit samples = [normalvariate(0, 1) for _ in range(N)]"
            ]
        },
        {
            "cell_type": "code",
            "execution_count": 177,
            "metadata": {},
            "outputs": [
                {
                    "name": "stdout",
                    "output_type": "stream",
                    "text": [
                        "28 ms ± 744 µs per loop (mean ± std. dev. of 7 runs, 10 loops each)\n"
                    ]
                }
            ],
            "source": [
                "%timeit np.random.normal(size=N)"
            ]
        },
        {
            "cell_type": "code",
            "execution_count": 178,
            "metadata": {},
            "outputs": [],
            "source": [
                "np.random.seed(1234)"
            ]
        },
        {
            "cell_type": "code",
            "execution_count": 179,
            "metadata": {},
            "outputs": [],
            "source": [
                "rng = np.random.RandomState(1234)"
            ]
        },
        {
            "cell_type": "code",
            "execution_count": 180,
            "metadata": {},
            "outputs": [
                {
                    "data": {
                        "text/plain": [
                            "array([ 0.47143516, -1.19097569,  1.43270697, -0.3126519 , -0.72058873,\n",
                            "        0.88716294,  0.85958841, -0.6365235 ,  0.01569637, -2.24268495])"
                        ]
                    },
                    "execution_count": 180,
                    "metadata": {},
                    "output_type": "execute_result"
                }
            ],
            "source": [
                "rng.randn(10)"
            ]
        },
        {
            "cell_type": "markdown",
            "metadata": {},
            "source": [
                "## 4.7 Example: Random Walks"
            ]
        },
        {
            "cell_type": "code",
            "execution_count": 181,
            "metadata": {},
            "outputs": [],
            "source": [
                "import random\n",
                "position = 0\n",
                "walk = [position]\n",
                "steps = 1000\n",
                "for i in range(steps):\n",
                "    step = 1 if random.randint(0, 1) else -1\n",
                "    position += step\n",
                "    walk.append(position)"
            ]
        },
        {
            "cell_type": "code",
            "execution_count": 182,
            "metadata": {},
            "outputs": [
                {
                    "data": {
                        "text/plain": [
                            "[<matplotlib.lines.Line2D at 0x16d6998ba60>]"
                        ]
                    },
                    "execution_count": 182,
                    "metadata": {},
                    "output_type": "execute_result"
                },
                {
                    "data": {
                        "image/png": "[encoded data removed]",
                        "text/plain": [
                            "<Figure size 432x288 with 1 Axes>"
                        ]
                    },
                    "metadata": {
                        "needs_background": "light"
                    },
                    "output_type": "display_data"
                }
            ],
            "source": [
                "plt.plot(walk[:100])"
            ]
        },
        {
            "cell_type": "code",
            "execution_count": 183,
            "metadata": {},
            "outputs": [],
            "source": [
                "nsteps = 1000"
            ]
        },
        {
            "cell_type": "code",
            "execution_count": 184,
            "metadata": {},
            "outputs": [],
            "source": [
                "draws = np.random.randint(0, 2, size=nsteps)"
            ]
        },
        {
            "cell_type": "code",
            "execution_count": 185,
            "metadata": {},
            "outputs": [],
            "source": [
                "steps = np.where(draws > 0, 1, -1)"
            ]
        },
        {
            "cell_type": "code",
            "execution_count": 186,
            "metadata": {},
            "outputs": [],
            "source": [
                "walk = steps.cumsum()"
            ]
        },
        {
            "cell_type": "code",
            "execution_count": 187,
            "metadata": {},
            "outputs": [
                {
                    "data": {
                        "text/plain": [
                            "-9"
                        ]
                    },
                    "execution_count": 187,
                    "metadata": {},
                    "output_type": "execute_result"
                }
            ],
            "source": [
                "walk.min()"
            ]
        },
        {
            "cell_type": "code",
            "execution_count": 188,
            "metadata": {},
            "outputs": [
                {
                    "data": {
                        "text/plain": [
                            "60"
                        ]
                    },
                    "execution_count": 188,
                    "metadata": {},
                    "output_type": "execute_result"
                }
            ],
            "source": [
                "walk.max()"
            ]
        },
        {
            "cell_type": "code",
            "execution_count": 189,
            "metadata": {},
            "outputs": [
                {
                    "data": {
                        "text/plain": [
                            "297"
                        ]
                    },
                    "execution_count": 189,
                    "metadata": {},
                    "output_type": "execute_result"
                }
            ],
            "source": [
                "(np.abs(walk) >= 10).argmax()"
            ]
        },
        {
            "cell_type": "markdown",
            "metadata": {},
            "source": [
                "### Simulating Many Random Walks at Once"
            ]
        },
        {
            "cell_type": "code",
            "execution_count": 190,
            "metadata": {},
            "outputs": [],
            "source": [
                "nwalks = 5000"
            ]
        },
        {
            "cell_type": "code",
            "execution_count": 191,
            "metadata": {},
            "outputs": [],
            "source": [
                "nsteps = 1000"
            ]
        },
        {
            "cell_type": "code",
            "execution_count": 192,
            "metadata": {},
            "outputs": [],
            "source": [
                "draws = np.random.randint(0, 2, size=(nwalks, nsteps))"
            ]
        },
        {
            "cell_type": "code",
            "execution_count": 193,
            "metadata": {},
            "outputs": [
                {
                    "data": {
                        "text/plain": [
                            "array([[1, 1, 1, ..., 1, 1, 0],\n",
                            "       [1, 0, 1, ..., 0, 1, 1],\n",
                            "       [1, 1, 1, ..., 1, 0, 0],\n",
                            "       ...,\n",
                            "       [1, 0, 1, ..., 0, 1, 1],\n",
                            "       [1, 1, 0, ..., 1, 0, 0],\n",
                            "       [0, 0, 0, ..., 1, 1, 1]])"
                        ]
                    },
                    "execution_count": 193,
                    "metadata": {},
                    "output_type": "execute_result"
                }
            ],
            "source": [
                "draws"
            ]
        },
        {
            "cell_type": "code",
            "execution_count": 194,
            "metadata": {},
            "outputs": [],
            "source": [
                "steps = np.where(draws > 0, 1, -1)"
            ]
        },
        {
            "cell_type": "code",
            "execution_count": 195,
            "metadata": {},
            "outputs": [
                {
                    "name": "stdout",
                    "output_type": "stream",
                    "text": [
                        "\u001b[1;31mDocstring:\u001b[0m\n",
                        "randint(low, high=None, size=None, dtype=int)\n",
                        "\n",
                        "Return random integers from `low` (inclusive) to `high` (exclusive).\n",
                        "\n",
                        "Return random integers from the \"discrete uniform\" distribution of\n",
                        "the specified dtype in the \"half-open\" interval [`low`, `high`). If\n",
                        "`high` is None (the default), then results are from [0, `low`).\n",
                        "\n",
                        ".. note::\n",
                        "    New code should use the ``integers`` method of a ``default_rng()``\n",
                        "    instance instead; please see the :ref:`random-quick-start`.\n",
                        "\n",
                        "Parameters\n",
                        "----------\n",
                        "low : int or array-like of ints\n",
                        "    Lowest (signed) integers to be drawn from the distribution (unless\n",
                        "    ``high=None``, in which case this parameter is one above the\n",
                        "    *highest* such integer).\n",
                        "high : int or array-like of ints, optional\n",
                        "    If provided, one above the largest (signed) integer to be drawn\n",
                        "    from the distribution (see above for behavior if ``high=None``).\n",
                        "    If array-like, must contain integer values\n",
                        "size : int or tuple of ints, optional\n",
                        "    Output shape.  If the given shape is, e.g., ``(m, n, k)``, then\n",
                        "    ``m * n * k`` samples are drawn.  Default is None, in which case a\n",
                        "    single value is returned.\n",
                        "dtype : dtype, optional\n",
                        "    Desired dtype of the result. Byteorder must be native.\n",
                        "    The default value is int.\n",
                        "\n",
                        "    .. versionadded:: 1.11.0\n",
                        "\n",
                        "Returns\n",
                        "-------\n",
                        "out : int or ndarray of ints\n",
                        "    `size`-shaped array of random integers from the appropriate\n",
                        "    distribution, or a single such random int if `size` not provided.\n",
                        "\n",
                        "See Also\n",
                        "--------\n",
                        "random_integers : similar to `randint`, only for the closed\n",
                        "    interval [`low`, `high`], and 1 is the lowest value if `high` is\n",
                        "    omitted.\n",
                        "Generator.integers: which should be used for new code.\n",
                        "\n",
                        "Examples\n",
                        "--------\n",
                        ">>> np.random.randint(2, size=10)\n",
                        "array([1, 0, 0, 0, 1, 1, 0, 0, 1, 0]) # random\n",
                        ">>> np.random.randint(1, size=10)\n",
                        "array([0, 0, 0, 0, 0, 0, 0, 0, 0, 0])\n",
                        "\n",
                        "Generate a 2 x 4 array of ints between 0 and 4, inclusive:\n",
                        "\n",
                        ">>> np.random.randint(5, size=(2, 4))\n",
                        "array([[4, 0, 2, 1], # random\n",
                        "       [3, 2, 2, 0]])\n",
                        "\n",
                        "Generate a 1 x 3 array with 3 different upper bounds\n",
                        "\n",
                        ">>> np.random.randint(1, [3, 5, 10])\n",
                        "array([2, 2, 9]) # random\n",
                        "\n",
                        "Generate a 1 by 3 array with 3 different lower bounds\n",
                        "\n",
                        ">>> np.random.randint([1, 5, 7], 10)\n",
                        "array([9, 8, 7]) # random\n",
                        "\n",
                        "Generate a 2 by 4 array using broadcasting with dtype of uint8\n",
                        "\n",
                        ">>> np.random.randint([1, 3, 5, 7], [[10], [20]], dtype=np.uint8)\n",
                        "array([[ 8,  6,  9,  7], # random\n",
                        "       [ 1, 16,  9, 12]], dtype=uint8)\n",
                        "\u001b[1;31mType:\u001b[0m      builtin_function_or_method\n"
                    ]
                }
            ],
            "source": [
                "np.random.randint?"
            ]
        },
        {
            "cell_type": "code",
            "execution_count": 196,
            "metadata": {},
            "outputs": [],
            "source": [
                "walks = steps.cumsum(1)"
            ]
        },
        {
            "cell_type": "code",
            "execution_count": 197,
            "metadata": {},
            "outputs": [
                {
                    "data": {
                        "text/plain": [
                            "array([[  1,   2,   3, ...,  46,  47,  46],\n",
                            "       [  1,   0,   1, ...,  40,  41,  42],\n",
                            "       [  1,   2,   3, ..., -26, -27, -28],\n",
                            "       ...,\n",
                            "       [  1,   0,   1, ...,  64,  65,  66],\n",
                            "       [  1,   2,   1, ...,   2,   1,   0],\n",
                            "       [ -1,  -2,  -3, ...,  32,  33,  34]], dtype=int32)"
                        ]
                    },
                    "execution_count": 197,
                    "metadata": {},
                    "output_type": "execute_result"
                }
            ],
            "source": [
                "walks"
            ]
        },
        {
            "cell_type": "code",
            "execution_count": 198,
            "metadata": {},
            "outputs": [
                {
                    "data": {
                        "text/plain": [
                            "122"
                        ]
                    },
                    "execution_count": 198,
                    "metadata": {},
                    "output_type": "execute_result"
                }
            ],
            "source": [
                "walks.max()"
            ]
        },
        {
            "cell_type": "code",
            "execution_count": 199,
            "metadata": {},
            "outputs": [
                {
                    "data": {
                        "text/plain": [
                            "-128"
                        ]
                    },
                    "execution_count": 199,
                    "metadata": {},
                    "output_type": "execute_result"
                }
            ],
            "source": [
                "walks.min()"
            ]
        },
        {
            "cell_type": "code",
            "execution_count": 200,
            "metadata": {},
            "outputs": [],
            "source": [
                "hits30 = (np.abs(walks) >= 30).any(1)"
            ]
        },
        {
            "cell_type": "code",
            "execution_count": 201,
            "metadata": {},
            "outputs": [
                {
                    "data": {
                        "text/plain": [
                            "array([ True,  True,  True, ...,  True, False,  True])"
                        ]
                    },
                    "execution_count": 201,
                    "metadata": {},
                    "output_type": "execute_result"
                }
            ],
            "source": [
                "hits30"
            ]
        },
        {
            "cell_type": "code",
            "execution_count": 202,
            "metadata": {},
            "outputs": [
                {
                    "data": {
                        "text/plain": [
                            "3368"
                        ]
                    },
                    "execution_count": 202,
                    "metadata": {},
                    "output_type": "execute_result"
                }
            ],
            "source": [
                "hits30.sum()"
            ]
        },
        {
            "cell_type": "code",
            "execution_count": 204,
            "metadata": {},
            "outputs": [],
            "source": [
                "crossing_time = (np.abs(walks[hits30]) >= 30).argmax(1)"
            ]
        },
        {
            "cell_type": "code",
            "execution_count": 206,
            "metadata": {},
            "outputs": [
                {
                    "data": {
                        "text/plain": [
                            "509.99762470308787"
                        ]
                    },
                    "execution_count": 206,
                    "metadata": {},
                    "output_type": "execute_result"
                }
            ],
            "source": [
                "crossing_time.mean()"
            ]
        },
        {
            "cell_type": "code",
            "execution_count": 207,
            "metadata": {},
            "outputs": [],
            "source": [
                "steps = np.random.normal(loc=0, scale=0.25, size=(nwalks, nsteps))"
            ]
        },
        {
            "cell_type": "code",
            "execution_count": 208,
            "metadata": {},
            "outputs": [
                {
                    "data": {
                        "text/plain": [
                            "array([[-0.20472197, -0.03407671, -0.24781626, ...,  0.22195392,\n",
                            "         0.21250584,  0.43994277],\n",
                            "       [-0.09066595,  0.04741116,  0.09872352, ...,  0.10684413,\n",
                            "         0.2540548 , -0.22255203],\n",
                            "       [ 0.00942324,  0.03418277, -0.42305453, ..., -0.05711872,\n",
                            "        -0.11820873, -0.71117832],\n",
                            "       ...,\n",
                            "       [ 0.1230118 , -0.18155722,  0.12782267, ...,  0.0730254 ,\n",
                            "         0.06546779,  0.47920034],\n",
                            "       [-0.20550269,  0.16459572, -0.03138668, ...,  0.06915243,\n",
                            "         0.07831634,  0.27554056],\n",
                            "       [-0.23056172,  0.28924403,  0.08444807, ..., -0.27018412,\n",
                            "        -0.02140732,  0.06343304]])"
                        ]
                    },
                    "execution_count": 208,
                    "metadata": {},
                    "output_type": "execute_result"
                }
            ],
            "source": [
                "steps"
            ]
        },
        {
            "cell_type": "code",
            "execution_count": null,
            "metadata": {},
            "outputs": [],
            "source": []
        }
    ],
    "metadata": {
        "interpreter": {
            "hash": "aee8b7b246df8f9039afb4144a1f6fd8d2ca17a180786b69acc140d282b71a49"
        },
        "kernelspec": {
            "display_name": "Python 3.8.3 64-bit",
            "name": "python3"
        },
        "language_info": {
            "codemirror_mode": {
                "name": "ipython",
                "version": 3
            },
            "file_extension": ".py",
            "mimetype": "text/x-python",
            "name": "python",
            "nbconvert_exporter": "python",
            "pygments_lexer": "ipython3",
            "version": "3.8.8"
        },
        "orig_nbformat": 4
    },
    "nbformat": 4,
    "nbformat_minor": 2
}
